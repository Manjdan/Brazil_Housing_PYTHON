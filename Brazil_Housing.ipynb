{
 "cells": [
  {
   "cell_type": "markdown",
   "id": "e2723a17",
   "metadata": {},
   "source": [
    "# Case Study-Brazil Housing"
   ]
  },
  {
   "cell_type": "markdown",
   "id": "abc1c9b6",
   "metadata": {},
   "source": [
    "### Business objective:\n",
    "    People can work remotely so thay want to relocate to another city,there living expensive is less.\n",
    "    Help the real estate company to find out suitable cities for bachelors, mid size family and large family."
   ]
  },
  {
   "cell_type": "markdown",
   "id": "1f45f78b",
   "metadata": {},
   "source": [
    "## Level 0 analysis(understanding the data)"
   ]
  },
  {
   "cell_type": "code",
   "execution_count": 1,
   "id": "009f8311",
   "metadata": {},
   "outputs": [],
   "source": [
    "import matplotlib.pyplot as plt             # to visualize\n",
    "from tabulate import tabulate               # to print the table\n",
    "import matplotlib as mat                    # to visualize \n",
    "import seaborn as sns                       # to visualize\n",
    "import pandas as pd                         # for data reading\n",
    "import numpy as np \n",
    "import squarify"
   ]
  },
  {
   "cell_type": "code",
   "execution_count": 2,
   "id": "b5d86d50",
   "metadata": {},
   "outputs": [],
   "source": [
    "#read the csv file\n",
    "df = pd.read_csv(\"DS1_C5_S3_BazilHousing_Data_Hackathon.csv\") "
   ]
  },
  {
   "cell_type": "code",
   "execution_count": 3,
   "id": "65e90ed3",
   "metadata": {},
   "outputs": [
    {
     "data": {
      "text/html": [
       "<div>\n",
       "<style scoped>\n",
       "    .dataframe tbody tr th:only-of-type {\n",
       "        vertical-align: middle;\n",
       "    }\n",
       "\n",
       "    .dataframe tbody tr th {\n",
       "        vertical-align: top;\n",
       "    }\n",
       "\n",
       "    .dataframe thead th {\n",
       "        text-align: right;\n",
       "    }\n",
       "</style>\n",
       "<table border=\"1\" class=\"dataframe\">\n",
       "  <thead>\n",
       "    <tr style=\"text-align: right;\">\n",
       "      <th></th>\n",
       "      <th>city</th>\n",
       "      <th>area</th>\n",
       "      <th>rooms</th>\n",
       "      <th>bathroom</th>\n",
       "      <th>parking spaces</th>\n",
       "      <th>floor</th>\n",
       "      <th>animal</th>\n",
       "      <th>furniture</th>\n",
       "      <th>hoa (R$)</th>\n",
       "      <th>rent amount (R$)</th>\n",
       "      <th>property tax (R$)</th>\n",
       "      <th>fire insurance (R$)</th>\n",
       "      <th>total (R$)</th>\n",
       "    </tr>\n",
       "  </thead>\n",
       "  <tbody>\n",
       "    <tr>\n",
       "      <th>0</th>\n",
       "      <td>São Paulo</td>\n",
       "      <td>70</td>\n",
       "      <td>2</td>\n",
       "      <td>1</td>\n",
       "      <td>1</td>\n",
       "      <td>7</td>\n",
       "      <td>acept</td>\n",
       "      <td>furnished</td>\n",
       "      <td>2065</td>\n",
       "      <td>3300</td>\n",
       "      <td>211</td>\n",
       "      <td>42</td>\n",
       "      <td>5618</td>\n",
       "    </tr>\n",
       "    <tr>\n",
       "      <th>1</th>\n",
       "      <td>São Paulo</td>\n",
       "      <td>320</td>\n",
       "      <td>4</td>\n",
       "      <td>4</td>\n",
       "      <td>0</td>\n",
       "      <td>20</td>\n",
       "      <td>acept</td>\n",
       "      <td>not furnished</td>\n",
       "      <td>1200</td>\n",
       "      <td>4960</td>\n",
       "      <td>1750</td>\n",
       "      <td>63</td>\n",
       "      <td>7973</td>\n",
       "    </tr>\n",
       "    <tr>\n",
       "      <th>2</th>\n",
       "      <td>Porto Alegre</td>\n",
       "      <td>80</td>\n",
       "      <td>1</td>\n",
       "      <td>1</td>\n",
       "      <td>1</td>\n",
       "      <td>6</td>\n",
       "      <td>acept</td>\n",
       "      <td>not furnished</td>\n",
       "      <td>1000</td>\n",
       "      <td>2800</td>\n",
       "      <td>0</td>\n",
       "      <td>41</td>\n",
       "      <td>3841</td>\n",
       "    </tr>\n",
       "    <tr>\n",
       "      <th>3</th>\n",
       "      <td>Porto Alegre</td>\n",
       "      <td>51</td>\n",
       "      <td>2</td>\n",
       "      <td>1</td>\n",
       "      <td>0</td>\n",
       "      <td>2</td>\n",
       "      <td>acept</td>\n",
       "      <td>not furnished</td>\n",
       "      <td>270</td>\n",
       "      <td>1112</td>\n",
       "      <td>22</td>\n",
       "      <td>17</td>\n",
       "      <td>1421</td>\n",
       "    </tr>\n",
       "    <tr>\n",
       "      <th>4</th>\n",
       "      <td>São Paulo</td>\n",
       "      <td>25</td>\n",
       "      <td>1</td>\n",
       "      <td>1</td>\n",
       "      <td>0</td>\n",
       "      <td>1</td>\n",
       "      <td>not acept</td>\n",
       "      <td>not furnished</td>\n",
       "      <td>0</td>\n",
       "      <td>800</td>\n",
       "      <td>25</td>\n",
       "      <td>11</td>\n",
       "      <td>836</td>\n",
       "    </tr>\n",
       "  </tbody>\n",
       "</table>\n",
       "</div>"
      ],
      "text/plain": [
       "           city  area  rooms  bathroom  parking spaces  floor     animal  \\\n",
       "0     São Paulo    70      2         1               1      7      acept   \n",
       "1     São Paulo   320      4         4               0     20      acept   \n",
       "2  Porto Alegre    80      1         1               1      6      acept   \n",
       "3  Porto Alegre    51      2         1               0      2      acept   \n",
       "4     São Paulo    25      1         1               0      1  not acept   \n",
       "\n",
       "       furniture  hoa (R$)  rent amount (R$)  property tax (R$)  \\\n",
       "0      furnished      2065              3300                211   \n",
       "1  not furnished      1200              4960               1750   \n",
       "2  not furnished      1000              2800                  0   \n",
       "3  not furnished       270              1112                 22   \n",
       "4  not furnished         0               800                 25   \n",
       "\n",
       "   fire insurance (R$)  total (R$)  \n",
       "0                   42        5618  \n",
       "1                   63        7973  \n",
       "2                   41        3841  \n",
       "3                   17        1421  \n",
       "4                   11         836  "
      ]
     },
     "execution_count": 3,
     "metadata": {},
     "output_type": "execute_result"
    }
   ],
   "source": [
    "#display dataframe with 5 records\n",
    "df.head()"
   ]
  },
  {
   "cell_type": "code",
   "execution_count": 4,
   "id": "23f277a4",
   "metadata": {},
   "outputs": [
    {
     "data": {
      "text/plain": [
       "(10692, 13)"
      ]
     },
     "execution_count": 4,
     "metadata": {},
     "output_type": "execute_result"
    }
   ],
   "source": [
    "#No of rows and columns\n",
    "df.shape"
   ]
  },
  {
   "cell_type": "code",
   "execution_count": 5,
   "id": "2fed6e4c",
   "metadata": {},
   "outputs": [
    {
     "data": {
      "text/plain": [
       "Index(['city', 'area', 'rooms', 'bathroom', 'parking spaces', 'floor',\n",
       "       'animal', 'furniture', 'hoa (R$)', 'rent amount (R$)',\n",
       "       'property tax (R$)', 'fire insurance (R$)', 'total (R$)'],\n",
       "      dtype='object')"
      ]
     },
     "execution_count": 5,
     "metadata": {},
     "output_type": "execute_result"
    }
   ],
   "source": [
    "#Display name of the column\n",
    "df.columns"
   ]
  },
  {
   "cell_type": "markdown",
   "id": "c151b91c",
   "metadata": {},
   "source": [
    "## The column 'total'  in the dataset is the sum of hoa,rent amount,property tax and fire insurace columns.So considering  only total column for analysis. "
   ]
  },
  {
   "cell_type": "code",
   "execution_count": 6,
   "id": "e2b0eee6",
   "metadata": {},
   "outputs": [],
   "source": [
    "df=df[['city', 'area', 'rooms', 'bathroom', 'parking spaces', 'floor',\n",
    "       'animal', 'furniture','total (R$)']].copy()"
   ]
  },
  {
   "cell_type": "code",
   "execution_count": 7,
   "id": "bea4bf62",
   "metadata": {},
   "outputs": [
    {
     "data": {
      "text/html": [
       "<div>\n",
       "<style scoped>\n",
       "    .dataframe tbody tr th:only-of-type {\n",
       "        vertical-align: middle;\n",
       "    }\n",
       "\n",
       "    .dataframe tbody tr th {\n",
       "        vertical-align: top;\n",
       "    }\n",
       "\n",
       "    .dataframe thead th {\n",
       "        text-align: right;\n",
       "    }\n",
       "</style>\n",
       "<table border=\"1\" class=\"dataframe\">\n",
       "  <thead>\n",
       "    <tr style=\"text-align: right;\">\n",
       "      <th></th>\n",
       "      <th>city</th>\n",
       "      <th>area</th>\n",
       "      <th>rooms</th>\n",
       "      <th>bathroom</th>\n",
       "      <th>parking spaces</th>\n",
       "      <th>floor</th>\n",
       "      <th>animal</th>\n",
       "      <th>furniture</th>\n",
       "      <th>total (R$)</th>\n",
       "    </tr>\n",
       "  </thead>\n",
       "  <tbody>\n",
       "    <tr>\n",
       "      <th>0</th>\n",
       "      <td>São Paulo</td>\n",
       "      <td>70</td>\n",
       "      <td>2</td>\n",
       "      <td>1</td>\n",
       "      <td>1</td>\n",
       "      <td>7</td>\n",
       "      <td>acept</td>\n",
       "      <td>furnished</td>\n",
       "      <td>5618</td>\n",
       "    </tr>\n",
       "    <tr>\n",
       "      <th>1</th>\n",
       "      <td>São Paulo</td>\n",
       "      <td>320</td>\n",
       "      <td>4</td>\n",
       "      <td>4</td>\n",
       "      <td>0</td>\n",
       "      <td>20</td>\n",
       "      <td>acept</td>\n",
       "      <td>not furnished</td>\n",
       "      <td>7973</td>\n",
       "    </tr>\n",
       "    <tr>\n",
       "      <th>2</th>\n",
       "      <td>Porto Alegre</td>\n",
       "      <td>80</td>\n",
       "      <td>1</td>\n",
       "      <td>1</td>\n",
       "      <td>1</td>\n",
       "      <td>6</td>\n",
       "      <td>acept</td>\n",
       "      <td>not furnished</td>\n",
       "      <td>3841</td>\n",
       "    </tr>\n",
       "    <tr>\n",
       "      <th>3</th>\n",
       "      <td>Porto Alegre</td>\n",
       "      <td>51</td>\n",
       "      <td>2</td>\n",
       "      <td>1</td>\n",
       "      <td>0</td>\n",
       "      <td>2</td>\n",
       "      <td>acept</td>\n",
       "      <td>not furnished</td>\n",
       "      <td>1421</td>\n",
       "    </tr>\n",
       "    <tr>\n",
       "      <th>4</th>\n",
       "      <td>São Paulo</td>\n",
       "      <td>25</td>\n",
       "      <td>1</td>\n",
       "      <td>1</td>\n",
       "      <td>0</td>\n",
       "      <td>1</td>\n",
       "      <td>not acept</td>\n",
       "      <td>not furnished</td>\n",
       "      <td>836</td>\n",
       "    </tr>\n",
       "  </tbody>\n",
       "</table>\n",
       "</div>"
      ],
      "text/plain": [
       "           city  area  rooms  bathroom  parking spaces  floor     animal  \\\n",
       "0     São Paulo    70      2         1               1      7      acept   \n",
       "1     São Paulo   320      4         4               0     20      acept   \n",
       "2  Porto Alegre    80      1         1               1      6      acept   \n",
       "3  Porto Alegre    51      2         1               0      2      acept   \n",
       "4     São Paulo    25      1         1               0      1  not acept   \n",
       "\n",
       "       furniture  total (R$)  \n",
       "0      furnished        5618  \n",
       "1  not furnished        7973  \n",
       "2  not furnished        3841  \n",
       "3  not furnished        1421  \n",
       "4  not furnished         836  "
      ]
     },
     "execution_count": 7,
     "metadata": {},
     "output_type": "execute_result"
    }
   ],
   "source": [
    "df.head()"
   ]
  },
  {
   "cell_type": "code",
   "execution_count": 8,
   "id": "52437889",
   "metadata": {
    "scrolled": true
   },
   "outputs": [
    {
     "name": "stdout",
     "output_type": "stream",
     "text": [
      "<class 'pandas.core.frame.DataFrame'>\n",
      "RangeIndex: 10692 entries, 0 to 10691\n",
      "Data columns (total 9 columns):\n",
      " #   Column          Non-Null Count  Dtype \n",
      "---  ------          --------------  ----- \n",
      " 0   city            10692 non-null  object\n",
      " 1   area            10692 non-null  int64 \n",
      " 2   rooms           10692 non-null  int64 \n",
      " 3   bathroom        10692 non-null  int64 \n",
      " 4   parking spaces  10692 non-null  int64 \n",
      " 5   floor           10692 non-null  int64 \n",
      " 6   animal          10692 non-null  object\n",
      " 7   furniture       10692 non-null  object\n",
      " 8   total (R$)      10692 non-null  int64 \n",
      "dtypes: int64(6), object(3)\n",
      "memory usage: 751.9+ KB\n"
     ]
    }
   ],
   "source": [
    "#Info about dataset\n",
    "df.info()\n"
   ]
  },
  {
   "cell_type": "code",
   "execution_count": 9,
   "id": "a1317694",
   "metadata": {},
   "outputs": [
    {
     "data": {
      "text/plain": [
       "not furnished    8086\n",
       "furnished        2606\n",
       "Name: furniture, dtype: int64"
      ]
     },
     "execution_count": 9,
     "metadata": {},
     "output_type": "execute_result"
    }
   ],
   "source": [
    "df['furniture'].value_counts()"
   ]
  },
  {
   "cell_type": "code",
   "execution_count": 10,
   "id": "cf218694",
   "metadata": {
    "scrolled": true
   },
   "outputs": [
    {
     "data": {
      "text/plain": [
       "city              0\n",
       "area              0\n",
       "rooms             0\n",
       "bathroom          0\n",
       "parking spaces    0\n",
       "floor             0\n",
       "animal            0\n",
       "furniture         0\n",
       "total (R$)        0\n",
       "dtype: int64"
      ]
     },
     "execution_count": 10,
     "metadata": {},
     "output_type": "execute_result"
    }
   ],
   "source": [
    "#check the null value\n",
    "df.isnull().sum()"
   ]
  },
  {
   "cell_type": "markdown",
   "id": "eb23a884",
   "metadata": {},
   "source": []
  },
  {
   "cell_type": "markdown",
   "id": "286c33c9",
   "metadata": {},
   "source": [
    "# Level 1 Analysis"
   ]
  },
  {
   "cell_type": "raw",
   "id": "3b07733b",
   "metadata": {},
   "source": [
    "1.Sepearting categorical and numerical columns\n",
    "2.checking the unique values in columns\n",
    "3.Treat the missing categorical values with  mode\n",
    "4.Exclude the most expensive cities of São Paulo and Rio de from Data.\n",
    "5.visualizing the data with count plot and pie chart."
   ]
  },
  {
   "cell_type": "code",
   "execution_count": 11,
   "id": "34bce5be",
   "metadata": {},
   "outputs": [],
   "source": [
    "def info_of_cat(col): \n",
    "    print(f\"Unique values in {col} are: {df[col].unique()}\") # unique: returns the unique values in the col\n",
    "    print(f\"Mode of {col} is {df[col].mode()[0]}\")  # mode: returns the mode of the column\n",
    "    print(f\"Number of missing values in {col} is {df[col].isnull().sum()}\") # isnull().sum() counts the number of null in dataframe\n",
    "      "
   ]
  },
  {
   "cell_type": "code",
   "execution_count": 12,
   "id": "0554c379",
   "metadata": {
    "scrolled": true
   },
   "outputs": [
    {
     "name": "stdout",
     "output_type": "stream",
     "text": [
      "categorical     continuous\n",
      "--------------  ------------\n",
      "city            area\n",
      "rooms           floor\n",
      "bathroom        total (R$)\n",
      "parking spaces\n",
      "animal\n",
      "furniture\n"
     ]
    }
   ],
   "source": [
    "# Seprating out the categorical and continuous variables\n",
    "def seprate_data_types(df):\n",
    "    categorical = []\n",
    "    continuous = []\n",
    "    for column in df.columns:                \n",
    "        if df[column].nunique() < 20:       \n",
    "                                                   \n",
    "            categorical.append(column)\n",
    "        else:\n",
    "            continuous.append(column)\n",
    "            \n",
    "    return categorical, continuous \n",
    "\n",
    "\n",
    "categorical, continuous = seprate_data_types(df)       \n",
    "\n",
    "\n",
    "from tabulate import tabulate\n",
    "table = [categorical, continuous]\n",
    "print(tabulate({\"Categorical\":categorical,\n",
    "                \"continuous\": continuous}, headers = [\"categorical\", \"continuous\"]))"
   ]
  },
  {
   "cell_type": "markdown",
   "id": "4bb6650a",
   "metadata": {},
   "source": [
    "### Expensive cities to exclude from the table."
   ]
  },
  {
   "cell_type": "code",
   "execution_count": 13,
   "id": "4967a0dc",
   "metadata": {},
   "outputs": [],
   "source": [
    "\n",
    "df1 = df[(df['city']!= 'São Paulo')&(df['city'] != 'Rio de Janeiro')]"
   ]
  },
  {
   "cell_type": "code",
   "execution_count": 14,
   "id": "fe611a37",
   "metadata": {},
   "outputs": [
    {
     "data": {
      "text/plain": [
       "(3304, 9)"
      ]
     },
     "execution_count": 14,
     "metadata": {},
     "output_type": "execute_result"
    }
   ],
   "source": [
    "df1.shape"
   ]
  },
  {
   "cell_type": "code",
   "execution_count": 15,
   "id": "ca81720b",
   "metadata": {
    "scrolled": true
   },
   "outputs": [
    {
     "data": {
      "text/html": [
       "<div>\n",
       "<style scoped>\n",
       "    .dataframe tbody tr th:only-of-type {\n",
       "        vertical-align: middle;\n",
       "    }\n",
       "\n",
       "    .dataframe tbody tr th {\n",
       "        vertical-align: top;\n",
       "    }\n",
       "\n",
       "    .dataframe thead th {\n",
       "        text-align: right;\n",
       "    }\n",
       "</style>\n",
       "<table border=\"1\" class=\"dataframe\">\n",
       "  <thead>\n",
       "    <tr style=\"text-align: right;\">\n",
       "      <th></th>\n",
       "      <th>city</th>\n",
       "      <th>area</th>\n",
       "      <th>rooms</th>\n",
       "      <th>bathroom</th>\n",
       "      <th>parking spaces</th>\n",
       "      <th>floor</th>\n",
       "      <th>animal</th>\n",
       "      <th>furniture</th>\n",
       "      <th>total (R$)</th>\n",
       "    </tr>\n",
       "  </thead>\n",
       "  <tbody>\n",
       "    <tr>\n",
       "      <th>2</th>\n",
       "      <td>Porto Alegre</td>\n",
       "      <td>80</td>\n",
       "      <td>1</td>\n",
       "      <td>1</td>\n",
       "      <td>1</td>\n",
       "      <td>6</td>\n",
       "      <td>acept</td>\n",
       "      <td>not furnished</td>\n",
       "      <td>3841</td>\n",
       "    </tr>\n",
       "    <tr>\n",
       "      <th>3</th>\n",
       "      <td>Porto Alegre</td>\n",
       "      <td>51</td>\n",
       "      <td>2</td>\n",
       "      <td>1</td>\n",
       "      <td>0</td>\n",
       "      <td>2</td>\n",
       "      <td>acept</td>\n",
       "      <td>not furnished</td>\n",
       "      <td>1421</td>\n",
       "    </tr>\n",
       "    <tr>\n",
       "      <th>11</th>\n",
       "      <td>Campinas</td>\n",
       "      <td>46</td>\n",
       "      <td>1</td>\n",
       "      <td>1</td>\n",
       "      <td>1</td>\n",
       "      <td>10</td>\n",
       "      <td>acept</td>\n",
       "      <td>not furnished</td>\n",
       "      <td>1181</td>\n",
       "    </tr>\n",
       "    <tr>\n",
       "      <th>15</th>\n",
       "      <td>Campinas</td>\n",
       "      <td>330</td>\n",
       "      <td>4</td>\n",
       "      <td>6</td>\n",
       "      <td>6</td>\n",
       "      <td>0</td>\n",
       "      <td>acept</td>\n",
       "      <td>furnished</td>\n",
       "      <td>9129</td>\n",
       "    </tr>\n",
       "    <tr>\n",
       "      <th>21</th>\n",
       "      <td>Belo Horizonte</td>\n",
       "      <td>42</td>\n",
       "      <td>1</td>\n",
       "      <td>1</td>\n",
       "      <td>1</td>\n",
       "      <td>17</td>\n",
       "      <td>not acept</td>\n",
       "      <td>furnished</td>\n",
       "      <td>3368</td>\n",
       "    </tr>\n",
       "  </tbody>\n",
       "</table>\n",
       "</div>"
      ],
      "text/plain": [
       "              city  area  rooms  bathroom  parking spaces  floor     animal  \\\n",
       "2     Porto Alegre    80      1         1               1      6      acept   \n",
       "3     Porto Alegre    51      2         1               0      2      acept   \n",
       "11        Campinas    46      1         1               1     10      acept   \n",
       "15        Campinas   330      4         6               6      0      acept   \n",
       "21  Belo Horizonte    42      1         1               1     17  not acept   \n",
       "\n",
       "        furniture  total (R$)  \n",
       "2   not furnished        3841  \n",
       "3   not furnished        1421  \n",
       "11  not furnished        1181  \n",
       "15      furnished        9129  \n",
       "21      furnished        3368  "
      ]
     },
     "execution_count": 15,
     "metadata": {},
     "output_type": "execute_result"
    }
   ],
   "source": [
    "df1.head()"
   ]
  },
  {
   "cell_type": "markdown",
   "id": "f8d2a5b2",
   "metadata": {},
   "source": [
    "# 𝑈𝑛𝑖𝑣𝑎𝑟𝑖𝑎𝑡𝑒 𝐴𝑛𝑎𝑙𝑦𝑠𝑖𝑠 𝑜𝑓 𝐶𝑎𝑡𝑒𝑔𝑜𝑟𝑖𝑐𝑎𝑙 𝑉𝑎𝑟𝑖𝑎𝑏𝑙𝑒𝑠\n",
    " \n"
   ]
  },
  {
   "cell_type": "markdown",
   "id": "a07bdb9e",
   "metadata": {},
   "source": [
    "# Level 1 Analysis:Univariate analysis"
   ]
  },
  {
   "cell_type": "markdown",
   "id": "92d7ccb8",
   "metadata": {},
   "source": [
    "## Analysis of city"
   ]
  },
  {
   "cell_type": "code",
   "execution_count": 16,
   "id": "1f31d557",
   "metadata": {},
   "outputs": [
    {
     "name": "stdout",
     "output_type": "stream",
     "text": [
      "Unique values in city are: ['Porto Alegre' 'Campinas' 'Belo Horizonte']\n",
      "Mode of city is Belo Horizonte\n",
      "Number of missing values in city is 0\n"
     ]
    }
   ],
   "source": [
    "def info_of_cat(col): \n",
    "    print(f\"Unique values in {col} are: {df1[col].unique()}\") \n",
    "    print(f\"Mode of {col} is {df1[col].mode()[0]}\") \n",
    "    print(f\"Number of missing values in {col} is {df1[col].isnull().sum()}\") \n",
    "info_of_cat('city')      "
   ]
  },
  {
   "cell_type": "code",
   "execution_count": 17,
   "id": "6d8212df",
   "metadata": {
    "scrolled": false
   },
   "outputs": [
    {
     "data": {
      "image/png": "[encoded data removed]",
      "text/plain": [
       "<Figure size 1500x700 with 2 Axes>"
      ]
     },
     "metadata": {},
     "output_type": "display_data"
    }
   ],
   "source": [
    "fig, ax = plt.subplots(1, 2, figsize = (15, 7))\n",
    "ax[0].set_title(\"Count of city\")                 \n",
    "percentage = df1[\"city\"].value_counts()         \n",
    "labels = list(df1[\"city\"].value_counts().index) \n",
    "\n",
    "sns.countplot(x = df1[\"city\"], ax = ax[0])\n",
    "plt.pie(percentage,labels = labels, autopct= \"%0.2f%%\")   \n",
    "\n",
    "plt.show()"
   ]
  },
  {
   "cell_type": "code",
   "execution_count": null,
   "id": "341ad979",
   "metadata": {},
   "outputs": [],
   "source": []
  },
  {
   "cell_type": "markdown",
   "id": "64e53c77",
   "metadata": {},
   "source": [
    "## Analysis of rooms"
   ]
  },
  {
   "cell_type": "code",
   "execution_count": 18,
   "id": "af2d9441",
   "metadata": {},
   "outputs": [
    {
     "name": "stdout",
     "output_type": "stream",
     "text": [
      "Unique values in rooms are: [ 1  2  4  3  5  6  7 10  8]\n",
      "Mode of rooms is 2\n",
      "Number of missing values in rooms is 0\n"
     ]
    }
   ],
   "source": [
    "info_of_cat('rooms')  "
   ]
  },
  {
   "cell_type": "code",
   "execution_count": 19,
   "id": "53e9e169",
   "metadata": {
    "scrolled": true
   },
   "outputs": [
    {
     "data": {
      "image/png": "[encoded data removed]",
      "text/plain": [
       "<Figure size 700x700 with 1 Axes>"
      ]
     },
     "metadata": {},
     "output_type": "display_data"
    }
   ],
   "source": [
    "fig, ax = plt.subplots(figsize= (7, 7))\n",
    "plt.title(\"Count of rooms\") \n",
    "ax = sns.countplot(x = \"rooms\",data = df1)"
   ]
  },
  {
   "cell_type": "code",
   "execution_count": 20,
   "id": "5d26b0f8",
   "metadata": {
    "scrolled": true
   },
   "outputs": [
    {
     "data": {
      "text/plain": [
       "(0.0, 100.0, 0.0, 100.0)"
      ]
     },
     "execution_count": 20,
     "metadata": {},
     "output_type": "execute_result"
    },
    {
     "data": {
      "image/png": "[encoded data removed]",
      "text/plain": [
       "<Figure size 1200x400 with 1 Axes>"
      ]
     },
     "metadata": {},
     "output_type": "display_data"
    }
   ],
   "source": [
    "x=df1['rooms'].value_counts() \n",
    "label=(x.index)\n",
    "#plt.style.use('dark_background')\n",
    "plt.rcParams.update({'font.size':8})\n",
    "plt.figure(figsize=(12,4))\n",
    "squarify.plot(sizes=x.values,label=label,color=['red','green','blue','black','orange','pink','white','yellow','grey'],alpha=.7)\n",
    "plt.axis('off')"
   ]
  },
  {
   "cell_type": "markdown",
   "id": "420e9d0b",
   "metadata": {},
   "source": [
    "## Analysis of bathroom"
   ]
  },
  {
   "cell_type": "code",
   "execution_count": 21,
   "id": "7a2e4e84",
   "metadata": {},
   "outputs": [
    {
     "name": "stdout",
     "output_type": "stream",
     "text": [
      "Unique values in bathroom are: [ 1  6  2  3  4  7  5  8 10]\n",
      "Mode of bathroom is 1\n",
      "Number of missing values in bathroom is 0\n"
     ]
    }
   ],
   "source": [
    "info_of_cat('bathroom')  "
   ]
  },
  {
   "cell_type": "code",
   "execution_count": 22,
   "id": "ac6e4e34",
   "metadata": {},
   "outputs": [
    {
     "data": {
      "image/png": "[encoded data removed]",
      "text/plain": [
       "<Figure size 700x700 with 1 Axes>"
      ]
     },
     "metadata": {},
     "output_type": "display_data"
    }
   ],
   "source": [
    "fig, ax = plt.subplots(figsize= (7, 7))\n",
    "plt.title(\"Count of bathroom\") \n",
    "ax = sns.countplot(x = \"bathroom\",data = df1)"
   ]
  },
  {
   "cell_type": "code",
   "execution_count": 23,
   "id": "56c3de11",
   "metadata": {
    "scrolled": true
   },
   "outputs": [
    {
     "data": {
      "text/plain": [
       "(0.0, 100.0, 0.0, 100.0)"
      ]
     },
     "execution_count": 23,
     "metadata": {},
     "output_type": "execute_result"
    },
    {
     "data": {
      "image/png": "[encoded data removed]",
      "text/plain": [
       "<Figure size 1200x400 with 1 Axes>"
      ]
     },
     "metadata": {},
     "output_type": "display_data"
    }
   ],
   "source": [
    "x=df1['bathroom'].value_counts() \n",
    "label=(x.index)\n",
    "#plt.style.use('dark_background')\n",
    "plt.rcParams.update({'font.size':8})\n",
    "plt.figure(figsize=(12,4))\n",
    "squarify.plot(sizes=x.values,label=label,color=['red','green','blue','black','orange','pink','white','yellow','grey'],alpha=.7)\n",
    "plt.axis('off')"
   ]
  },
  {
   "cell_type": "markdown",
   "id": "17c8f63b",
   "metadata": {},
   "source": [
    "## Analysis of parking spaces"
   ]
  },
  {
   "cell_type": "code",
   "execution_count": 24,
   "id": "497e97cf",
   "metadata": {},
   "outputs": [
    {
     "name": "stdout",
     "output_type": "stream",
     "text": [
      "Unique values in parking spaces are: [1 0 6 4 2 3 8 5 7]\n",
      "Mode of parking spaces is 1\n",
      "Number of missing values in parking spaces is 0\n"
     ]
    }
   ],
   "source": [
    "info_of_cat('parking spaces')  "
   ]
  },
  {
   "cell_type": "code",
   "execution_count": 25,
   "id": "c4e5d341",
   "metadata": {},
   "outputs": [
    {
     "data": {
      "image/png": "[encoded data removed]",
      "text/plain": [
       "<Figure size 700x700 with 1 Axes>"
      ]
     },
     "metadata": {},
     "output_type": "display_data"
    }
   ],
   "source": [
    "fig, ax = plt.subplots(figsize= (7, 7))\n",
    "plt.title(\"Count of parking spaces\") \n",
    "ax = sns.countplot(x = \"parking spaces\",data = df1)"
   ]
  },
  {
   "cell_type": "code",
   "execution_count": 26,
   "id": "0f7e184c",
   "metadata": {},
   "outputs": [
    {
     "data": {
      "text/plain": [
       "(0.0, 100.0, 0.0, 100.0)"
      ]
     },
     "execution_count": 26,
     "metadata": {},
     "output_type": "execute_result"
    },
    {
     "data": {
      "image/png": "[encoded data removed]",
      "text/plain": [
       "<Figure size 1200x400 with 1 Axes>"
      ]
     },
     "metadata": {},
     "output_type": "display_data"
    }
   ],
   "source": [
    "x=df1['parking spaces'].value_counts() \n",
    "label=(x.index)\n",
    "#plt.style.use('dark_background')\n",
    "plt.rcParams.update({'font.size':8})\n",
    "plt.figure(figsize=(12,4))\n",
    "squarify.plot(sizes=x.values,label=label,color=['red','green','blue','black','orange','pink','white','yellow','grey'],alpha=.7)\n",
    "plt.axis('off')"
   ]
  },
  {
   "cell_type": "markdown",
   "id": "0792beb2",
   "metadata": {},
   "source": [
    "## Analysis of animal"
   ]
  },
  {
   "cell_type": "code",
   "execution_count": 27,
   "id": "9bfa57a2",
   "metadata": {},
   "outputs": [
    {
     "name": "stdout",
     "output_type": "stream",
     "text": [
      "Unique values in animal are: ['acept' 'not acept']\n",
      "Mode of animal is acept\n",
      "Number of missing values in animal is 0\n"
     ]
    }
   ],
   "source": [
    "info_of_cat('animal')"
   ]
  },
  {
   "cell_type": "code",
   "execution_count": 28,
   "id": "d678b206",
   "metadata": {},
   "outputs": [
    {
     "data": {
      "image/png": "[encoded data removed]",
      "text/plain": [
       "<Figure size 700x700 with 1 Axes>"
      ]
     },
     "metadata": {},
     "output_type": "display_data"
    }
   ],
   "source": [
    "fig, ax = plt.subplots(figsize= (7, 7))\n",
    "plt.title(\"Count of animal\") \n",
    "ax = sns.countplot(x = \"animal\",data = df1)\n"
   ]
  },
  {
   "cell_type": "code",
   "execution_count": 29,
   "id": "59d61519",
   "metadata": {},
   "outputs": [
    {
     "data": {
      "text/plain": [
       "(0.0, 100.0, 0.0, 100.0)"
      ]
     },
     "execution_count": 29,
     "metadata": {},
     "output_type": "execute_result"
    },
    {
     "data": {
      "image/png": "[encoded data removed]",
      "text/plain": [
       "<Figure size 500x400 with 1 Axes>"
      ]
     },
     "metadata": {},
     "output_type": "display_data"
    }
   ],
   "source": [
    "x=df1['animal'].value_counts() \n",
    "label=(x.index)\n",
    "#plt.style.use('dark_background')\n",
    "plt.rcParams.update({'font.size':8})\n",
    "plt.figure(figsize=(5,4))\n",
    "squarify.plot(sizes=x.values,label=label,color=['red','green','blue','white','orange','pink','white','yellow','grey'],alpha=.7)\n",
    "plt.axis('off')"
   ]
  },
  {
   "cell_type": "markdown",
   "id": "156fbff7",
   "metadata": {},
   "source": [
    "## Analysis of furniture"
   ]
  },
  {
   "cell_type": "code",
   "execution_count": 30,
   "id": "2e70304a",
   "metadata": {},
   "outputs": [
    {
     "name": "stdout",
     "output_type": "stream",
     "text": [
      "Unique values in furniture are: ['not furnished' 'furnished']\n",
      "Mode of furniture is not furnished\n",
      "Number of missing values in furniture is 0\n"
     ]
    }
   ],
   "source": [
    "info_of_cat('furniture')"
   ]
  },
  {
   "cell_type": "code",
   "execution_count": 31,
   "id": "5e5ce9e8",
   "metadata": {},
   "outputs": [
    {
     "data": {
      "image/png": "[encoded data removed]",
      "text/plain": [
       "<Figure size 700x700 with 1 Axes>"
      ]
     },
     "metadata": {},
     "output_type": "display_data"
    }
   ],
   "source": [
    "fig, ax = plt.subplots(figsize= (7, 7))\n",
    "plt.title(\"Count of furniture\") \n",
    "ax = sns.countplot(x = \"furniture\",data = df1)\n"
   ]
  },
  {
   "cell_type": "code",
   "execution_count": 32,
   "id": "0a6f756e",
   "metadata": {
    "scrolled": true
   },
   "outputs": [
    {
     "data": {
      "text/plain": [
       "(0.0, 100.0, 0.0, 100.0)"
      ]
     },
     "execution_count": 32,
     "metadata": {},
     "output_type": "execute_result"
    },
    {
     "data": {
      "image/png": "[encoded data removed]",
      "text/plain": [
       "<Figure size 1200x400 with 1 Axes>"
      ]
     },
     "metadata": {},
     "output_type": "display_data"
    }
   ],
   "source": [
    "x=df1['furniture'].value_counts() \n",
    "label=(x.index)\n",
    "#plt.style.use('dark_background')\n",
    "plt.rcParams.update({'font.size':8})\n",
    "plt.figure(figsize=(12,4))\n",
    "squarify.plot(sizes=x.values,label=label,color=['red','green','blue','white','orange','pink','white','yellow','grey'],alpha=.7)\n",
    "plt.axis('off')"
   ]
  },
  {
   "cell_type": "markdown",
   "id": "fe4598b8",
   "metadata": {},
   "source": [
    "# 𝑈𝑛𝑖𝑣𝑎𝑟𝑖𝑎𝑡𝑒 𝐴𝑛𝑎𝑙𝑦𝑠𝑖𝑠 𝑜𝑓 𝑁𝑢𝑚𝑒𝑟𝑖𝑐𝑎𝑙 𝑉𝑎𝑟𝑖𝑎𝑏𝑙𝑒𝑠"
   ]
  },
  {
   "cell_type": "markdown",
   "id": "3d553412",
   "metadata": {},
   "source": [
    "## Level 1 Analysis of Numerical Columns"
   ]
  },
  {
   "cell_type": "raw",
   "id": "b10ae154",
   "metadata": {},
   "source": [
    "1.Check if the data is discrete or continuous.\n",
    "2.Measure the central tendency (mean, median, mode)\n",
    "3.Measure the dispersion values\n",
    "4.Check for missing values\n",
    "5.Check for outliers\n",
    "6.Think about how the missing values could be treated.\n",
    "7.Think about the kind of graph/chart that can be plotted using this data."
   ]
  },
  {
   "cell_type": "code",
   "execution_count": 33,
   "id": "20a0e16d",
   "metadata": {},
   "outputs": [],
   "source": [
    "#mean,median,mode,std and finding all missing values\n",
    "def info_of_numerical(col):\n",
    "    print(f\"The mean of the {col} is {df1[col].mean()}\")\n",
    "    print(f\"The median of the {col} is {df1[col].median()}\")\n",
    "    print(f\"The mode of the {col} is {df1[col].mode()[0]}\")\n",
    "    print(f\"The standard deviation of the {col} is {df1[col].std()}\")\n",
    "    print(f\"Number of missing values in the {col} is {df1[col].isnull().sum()}\")"
   ]
  },
  {
   "cell_type": "markdown",
   "id": "ed735bdf",
   "metadata": {},
   "source": [
    "## Analysis of area"
   ]
  },
  {
   "cell_type": "code",
   "execution_count": 34,
   "id": "b5d264b8",
   "metadata": {
    "scrolled": false
   },
   "outputs": [
    {
     "name": "stdout",
     "output_type": "stream",
     "text": [
      "The mean of the area is 151.89769975786925\n",
      "The median of the area is 80.0\n",
      "The mode of the area is 70\n",
      "The standard deviation of the area is 844.549115817972\n",
      "Number of missing values in the area is 0\n"
     ]
    }
   ],
   "source": [
    "info_of_numerical('area')"
   ]
  },
  {
   "cell_type": "code",
   "execution_count": 35,
   "id": "bc065613",
   "metadata": {
    "scrolled": true
   },
   "outputs": [
    {
     "data": {
      "image/png": "[encoded data removed]",
      "text/plain": [
       "<Figure size 2000x700 with 2 Axes>"
      ]
     },
     "metadata": {},
     "output_type": "display_data"
    }
   ],
   "source": [
    "fig, ax = plt.subplots(1, 2, figsize= (20, 7))                \n",
    "sns.histplot(x = df1[\"area\"], ax =ax[1], color = \"b\") \n",
    "sns.boxplot(x = df1[\"area\"], ax = ax[0], color = \"r\") \n",
    "plt.show()"
   ]
  },
  {
   "cell_type": "markdown",
   "id": "050bebf3",
   "metadata": {},
   "source": [
    "## outliers analysis and  treatmaent for area"
   ]
  },
  {
   "cell_type": "code",
   "execution_count": 36,
   "id": "b7211a1b",
   "metadata": {},
   "outputs": [],
   "source": [
    "def outliers(column):\n",
    "    print(\"The mean  is\", df1[column].mean())\n",
    "    Q1=df1[column].quantile(0.25)\n",
    "    Q3=df1[column].quantile(0.75)\n",
    "    print('value of Q1 and Q3',Q1,',',Q3)\n",
    "    IQR=Q3-Q1\n",
    "    print('value of IQR',IQR)\n",
    "    UF = Q3 + (1.5 * IQR) \n",
    "    LF = Q1 - (1.5 * IQR)\n",
    "    print('value of UF and LF',UF,',',LF)\n",
    "    outlier=[]\n",
    "    for i in df1[column]: \n",
    "            if (i<LF or i>UF):\n",
    "                outlier.append(i)\n",
    "\n",
    "    print(\"Outliers from IQR method: \", outlier)\n",
    "    \n",
    "    a = df1[column].mean()\n",
    "    for i in outlier:\n",
    "        df1[column]=df1[column].replace(to_replace=i,value=a)"
   ]
  },
  {
   "cell_type": "code",
   "execution_count": 37,
   "id": "7a8baca4",
   "metadata": {},
   "outputs": [
    {
     "name": "stdout",
     "output_type": "stream",
     "text": [
      "The mean  is 151.89769975786925\n",
      "value of Q1 and Q3 55.0 , 160.0\n",
      "value of IQR 105.0\n",
      "value of UF and LF 317.5 , -102.5\n",
      "Outliers from IQR method:  [330, 350, 400, 999, 420, 570, 320, 600, 362, 360, 440, 350, 417, 350, 548, 428, 500, 398, 680, 450, 450, 360, 750, 650, 1000, 550, 405, 320, 325, 383, 341, 600, 345, 367, 840, 600, 340, 340, 800, 600, 350, 360, 360, 360, 650, 340, 450, 350, 497, 650, 573, 400, 500, 420, 500, 981, 850, 660, 450, 462, 540, 350, 660, 622, 350, 320, 553, 450, 360, 400, 350, 450, 360, 340, 46335, 700, 440, 1020, 348, 521, 563, 410, 318, 384, 649, 400, 430, 544, 360, 450, 430, 580, 800, 700, 400, 413, 396, 375, 402, 425, 359, 1000, 424, 380, 400, 550, 450, 470, 355, 400, 450, 360, 450, 429, 682, 320, 450, 800, 470, 350, 600, 320, 502, 578, 900, 400, 367, 900, 999, 400, 500, 500, 402, 470, 444, 372, 600, 346, 520, 365, 800, 350, 500, 2000, 373, 318, 326, 474, 343, 330, 347, 350, 320, 344, 350, 465, 950, 320, 360, 348, 400, 329, 341, 362, 400, 387, 520, 471, 344, 400, 500, 1000, 360, 360, 430, 434, 616, 380, 390, 490, 513, 325, 400, 640, 320, 460, 390, 360, 441, 450, 360, 350, 360, 320, 650, 744, 380, 367, 400, 360, 400, 327, 457, 540, 336, 506, 659, 415, 350, 400, 650, 380, 360, 480, 358, 784, 449, 326, 330, 420, 470, 438, 330, 650, 350, 332, 339, 600, 758, 560, 360, 320, 350, 750, 340, 400, 373, 330, 2000, 350, 440, 550, 374, 483, 335, 373, 458, 440, 360, 326, 365, 12732, 550, 320, 503, 500, 420, 380, 400, 462, 600, 336, 470, 440, 570, 420, 320, 802, 550, 700, 620, 386, 600, 476, 500, 330, 350, 500, 400, 460, 437, 800, 480, 350, 900, 600, 456, 350, 420, 400, 500, 350, 411, 360, 400]\n"
     ]
    },
    {
     "name": "stderr",
     "output_type": "stream",
     "text": [
      "C:\\Users\\Administrator\\AppData\\Local\\Temp\\ipykernel_11568\\1036927177.py:20: SettingWithCopyWarning: \n",
      "A value is trying to be set on a copy of a slice from a DataFrame.\n",
      "Try using .loc[row_indexer,col_indexer] = value instead\n",
      "\n",
      "See the caveats in the documentation: https://pandas.pydata.org/pandas-docs/stable/user_guide/indexing.html#returning-a-view-versus-a-copy\n",
      "  df1[column]=df1[column].replace(to_replace=i,value=a)\n"
     ]
    }
   ],
   "source": [
    "outliers('area')"
   ]
  },
  {
   "cell_type": "code",
   "execution_count": 38,
   "id": "b31f95d8",
   "metadata": {
    "scrolled": true
   },
   "outputs": [
    {
     "data": {
      "image/png": "[encoded data removed]",
      "text/plain": [
       "<Figure size 2000x700 with 2 Axes>"
      ]
     },
     "metadata": {},
     "output_type": "display_data"
    }
   ],
   "source": [
    "fig, ax = plt.subplots(1, 2, figsize= (20, 7))               \n",
    "sns.histplot(x = df1[\"area\"], ax =ax[1], color = \"b\") \n",
    "sns.boxplot(x = df1[\"area\"], ax = ax[0], color = \"r\") \n",
    "plt.show()"
   ]
  },
  {
   "cell_type": "markdown",
   "id": "26fdcc7c",
   "metadata": {},
   "source": [
    "# Analysis of floor"
   ]
  },
  {
   "cell_type": "code",
   "execution_count": 39,
   "id": "8c725792",
   "metadata": {},
   "outputs": [
    {
     "name": "stdout",
     "output_type": "stream",
     "text": [
      "The mean of the floor is 3.9900121065375305\n",
      "The median of the floor is 3.0\n",
      "The mode of the floor is 0\n",
      "The standard deviation of the floor is 6.689621479822255\n",
      "Number of missing values in the floor is 0\n"
     ]
    }
   ],
   "source": [
    "info_of_numerical('floor')"
   ]
  },
  {
   "cell_type": "code",
   "execution_count": 40,
   "id": "cf70a146",
   "metadata": {},
   "outputs": [
    {
     "name": "stdout",
     "output_type": "stream",
     "text": [
      "The mean  is 3.9900121065375305\n",
      "value of Q1 and Q3 1.0 , 6.0\n",
      "value of IQR 5.0\n",
      "value of UF and LF 13.5 , -6.5\n",
      "Outliers from IQR method:  [17, 14, 16, 22, 19, 14, 17, 14, 17, 20, 14, 14, 20, 15, 16, 17, 15, 14, 15, 17, 16, 18, 17, 18, 15, 17, 16, 15, 301, 20, 14, 26, 15, 14, 14, 18, 15, 14, 14, 17, 14, 15, 15, 14, 15, 16, 15, 19, 15, 15, 15, 18, 18, 15, 15, 21, 14, 16, 16, 19, 14, 18, 17, 14, 14, 19, 20, 29, 14, 18, 18, 51, 15, 20, 19, 17, 23, 17, 19, 15, 20, 16, 14, 14, 15, 15, 16, 15, 16, 20, 18, 15, 15, 23, 16, 16, 14, 15, 15, 18, 15, 15, 18, 20, 21, 17, 17, 15, 18, 18, 14, 16, 21, 15, 15, 16, 16, 15, 20, 15, 17, 17, 17, 14, 16, 14, 17, 16, 15, 15, 15]\n"
     ]
    },
    {
     "name": "stderr",
     "output_type": "stream",
     "text": [
      "C:\\Users\\Administrator\\AppData\\Local\\Temp\\ipykernel_11568\\1036927177.py:20: SettingWithCopyWarning: \n",
      "A value is trying to be set on a copy of a slice from a DataFrame.\n",
      "Try using .loc[row_indexer,col_indexer] = value instead\n",
      "\n",
      "See the caveats in the documentation: https://pandas.pydata.org/pandas-docs/stable/user_guide/indexing.html#returning-a-view-versus-a-copy\n",
      "  df1[column]=df1[column].replace(to_replace=i,value=a)\n"
     ]
    }
   ],
   "source": [
    "outliers('floor')"
   ]
  },
  {
   "cell_type": "code",
   "execution_count": 41,
   "id": "9874e173",
   "metadata": {},
   "outputs": [
    {
     "data": {
      "image/png": "[encoded data removed]",
      "text/plain": [
       "<Figure size 2000x700 with 2 Axes>"
      ]
     },
     "metadata": {},
     "output_type": "display_data"
    }
   ],
   "source": [
    "fig, ax = plt.subplots(1, 2, figsize= (20, 7))                \n",
    "sns.histplot(x = df1[\"floor\"], ax =ax[1], color = \"b\") \n",
    "sns.boxplot(x = df1[\"floor\"], ax = ax[0], color = \"r\") \n",
    "plt.show()"
   ]
  },
  {
   "cell_type": "markdown",
   "id": "ddb342ec",
   "metadata": {},
   "source": [
    "## Analysis of total"
   ]
  },
  {
   "cell_type": "code",
   "execution_count": 42,
   "id": "a89fce86",
   "metadata": {},
   "outputs": [
    {
     "name": "stdout",
     "output_type": "stream",
     "text": [
      "The mean of the total (R$) is 4303.3265738498785\n",
      "The median of the total (R$) is 2348.0\n",
      "The mode of the total (R$) is 2633\n",
      "The standard deviation of the total (R$) is 27679.63993475239\n",
      "Number of missing values in the total (R$) is 0\n"
     ]
    }
   ],
   "source": [
    "info_of_numerical('total (R$)')"
   ]
  },
  {
   "cell_type": "code",
   "execution_count": 43,
   "id": "d0aef4c8",
   "metadata": {},
   "outputs": [
    {
     "data": {
      "image/png": "[encoded data removed]",
      "text/plain": [
       "<Figure size 2000x700 with 2 Axes>"
      ]
     },
     "metadata": {},
     "output_type": "display_data"
    }
   ],
   "source": [
    "fig, ax = plt.subplots(1, 2, figsize= (20, 7))                \n",
    "sns.histplot(x = df1[\"total (R$)\"], ax =ax[1], color = \"b\") \n",
    "sns.boxplot(x = df1[\"total (R$)\"], ax = ax[0], color = \"r\") \n",
    "plt.show()"
   ]
  },
  {
   "cell_type": "code",
   "execution_count": 44,
   "id": "8ab968d9",
   "metadata": {},
   "outputs": [
    {
     "name": "stdout",
     "output_type": "stream",
     "text": [
      "The mean  is 4303.3265738498785\n",
      "value of Q1 and Q3 1512.0 , 4197.5\n",
      "value of IQR 2685.5\n",
      "value of UF and LF 8225.75 , -2516.25\n",
      "Outliers from IQR method:  [9129, 11610, 8794, 9520, 14150, 8900, 9394, 14880, 9916, 9340, 1120000, 13180, 9396, 13600, 17920, 21310, 17890, 10840, 8226, 23590, 9301, 10430, 12810, 9427, 8560, 19340, 16100, 8980, 18000, 11220, 10360, 17130, 9660, 8253, 11280, 9463, 10430, 11320, 12280, 23250, 8643, 12480, 13380, 10600, 13450, 15290, 9231, 8269, 9989, 12470, 16570, 15000, 10860, 9410, 10610, 8852, 15280, 9070, 10110, 10900, 10490, 32750, 15630, 8746, 11630, 8283, 10170, 20100, 17760, 11730, 19800, 15730, 15850, 8830, 16610, 11090, 8716, 15270, 9901, 12090, 15160, 9218, 17010, 10220, 10970, 10840, 10910, 21670, 10950, 19720, 8515, 16310, 8961, 21500, 10580, 16400, 8966, 16410, 8588, 11010, 8675, 9819, 10410, 12180, 16020, 9695, 10060, 10060, 10200, 8736, 15660, 12300, 15070, 13560, 8246, 9205, 9886, 16310, 15640, 11420, 8884, 9920, 8302, 11020, 12640, 10440, 12570, 9889, 15060, 10870, 8471, 11520, 8908, 9590, 11550, 9292, 12940, 10430, 14180, 12480, 12650, 10470, 9933, 20560, 17480, 14720, 16020, 8525, 12100, 16910, 8309, 17850, 15140, 14160, 11960, 9957, 8757, 9148, 9469, 12000, 11920, 9311, 10130, 15240, 8874, 8770, 10130, 12210, 8449, 16240, 12570, 12410, 13900, 21020, 17120, 10230, 8524, 8525, 11730, 9128, 15680, 12670, 9487, 12760, 8803, 8840, 14460, 10580, 10910, 12430, 13230, 15520, 15530, 19590, 8627, 10840, 8983, 9748, 13670, 15970, 18150, 16100, 13810, 14490, 9308, 10200, 11900, 16910, 8599, 9733, 8233, 11150, 9384, 8543, 1120000, 10250, 9394, 9643, 9020, 11600, 8685, 8917, 9660, 12530, 8966, 14700, 14630, 9794, 9507, 9069, 9654, 10340, 8883, 14110, 9241, 11300, 8584, 14830, 12090, 14400, 8455, 8352, 8311, 10260, 12420, 12900, 13840, 15550, 8399, 17370, 15450, 8847, 8269, 8515, 14460, 12840, 18040, 11170, 12890, 10370, 25580, 8682, 10050, 9831, 8491, 16920, 13960, 8696, 8737, 17990, 10840, 8267, 12900, 11370, 12330, 10270, 10840, 9495, 12640, 10840, 12880, 9982, 10130, 15230, 10950, 8761, 15680, 8518, 16620, 15000, 10420, 9497, 9906, 15180, 13450, 9345, 10840, 17990, 10570, 13000, 12430, 9105, 16760, 11960, 16250, 17180, 14590, 12210, 13520, 15700, 16270, 10170, 27760, 12930, 9561, 8565, 9236, 8292, 15610, 19220, 15930, 11170, 11320, 19060, 9148, 16740, 15620, 15800, 9750, 9142]\n"
     ]
    },
    {
     "name": "stderr",
     "output_type": "stream",
     "text": [
      "C:\\Users\\Administrator\\AppData\\Local\\Temp\\ipykernel_11568\\1036927177.py:20: SettingWithCopyWarning: \n",
      "A value is trying to be set on a copy of a slice from a DataFrame.\n",
      "Try using .loc[row_indexer,col_indexer] = value instead\n",
      "\n",
      "See the caveats in the documentation: https://pandas.pydata.org/pandas-docs/stable/user_guide/indexing.html#returning-a-view-versus-a-copy\n",
      "  df1[column]=df1[column].replace(to_replace=i,value=a)\n"
     ]
    }
   ],
   "source": [
    "outliers('total (R$)')"
   ]
  },
  {
   "cell_type": "code",
   "execution_count": 45,
   "id": "c25d5444",
   "metadata": {},
   "outputs": [
    {
     "data": {
      "image/png": "[encoded data removed]",
      "text/plain": [
       "<Figure size 2000x700 with 2 Axes>"
      ]
     },
     "metadata": {},
     "output_type": "display_data"
    }
   ],
   "source": [
    "fig, ax = plt.subplots(1, 2, figsize= (20, 7))                \n",
    "sns.histplot(x = df1[\"total (R$)\"], ax =ax[1], color = \"b\") \n",
    "sns.boxplot(x = df1[\"total (R$)\"], ax = ax[0], color = \"r\") \n",
    "plt.show()"
   ]
  },
  {
   "cell_type": "markdown",
   "id": "d181d4fb",
   "metadata": {},
   "source": [
    "# Univariate analysis of room for bachelors to relocate"
   ]
  },
  {
   "cell_type": "code",
   "execution_count": 46,
   "id": "aa9950d8",
   "metadata": {},
   "outputs": [
    {
     "data": {
      "text/html": [
       "<div>\n",
       "<style scoped>\n",
       "    .dataframe tbody tr th:only-of-type {\n",
       "        vertical-align: middle;\n",
       "    }\n",
       "\n",
       "    .dataframe tbody tr th {\n",
       "        vertical-align: top;\n",
       "    }\n",
       "\n",
       "    .dataframe thead th {\n",
       "        text-align: right;\n",
       "    }\n",
       "</style>\n",
       "<table border=\"1\" class=\"dataframe\">\n",
       "  <thead>\n",
       "    <tr style=\"text-align: right;\">\n",
       "      <th></th>\n",
       "      <th>city</th>\n",
       "      <th>area</th>\n",
       "      <th>rooms</th>\n",
       "      <th>bathroom</th>\n",
       "      <th>parking spaces</th>\n",
       "      <th>floor</th>\n",
       "      <th>animal</th>\n",
       "      <th>furniture</th>\n",
       "      <th>total (R$)</th>\n",
       "    </tr>\n",
       "  </thead>\n",
       "  <tbody>\n",
       "    <tr>\n",
       "      <th>2</th>\n",
       "      <td>Porto Alegre</td>\n",
       "      <td>80.0</td>\n",
       "      <td>1</td>\n",
       "      <td>1</td>\n",
       "      <td>1</td>\n",
       "      <td>6.000000</td>\n",
       "      <td>acept</td>\n",
       "      <td>not furnished</td>\n",
       "      <td>3841.0</td>\n",
       "    </tr>\n",
       "    <tr>\n",
       "      <th>3</th>\n",
       "      <td>Porto Alegre</td>\n",
       "      <td>51.0</td>\n",
       "      <td>2</td>\n",
       "      <td>1</td>\n",
       "      <td>0</td>\n",
       "      <td>2.000000</td>\n",
       "      <td>acept</td>\n",
       "      <td>not furnished</td>\n",
       "      <td>1421.0</td>\n",
       "    </tr>\n",
       "    <tr>\n",
       "      <th>11</th>\n",
       "      <td>Campinas</td>\n",
       "      <td>46.0</td>\n",
       "      <td>1</td>\n",
       "      <td>1</td>\n",
       "      <td>1</td>\n",
       "      <td>10.000000</td>\n",
       "      <td>acept</td>\n",
       "      <td>not furnished</td>\n",
       "      <td>1181.0</td>\n",
       "    </tr>\n",
       "    <tr>\n",
       "      <th>21</th>\n",
       "      <td>Belo Horizonte</td>\n",
       "      <td>42.0</td>\n",
       "      <td>1</td>\n",
       "      <td>1</td>\n",
       "      <td>1</td>\n",
       "      <td>3.990012</td>\n",
       "      <td>not acept</td>\n",
       "      <td>furnished</td>\n",
       "      <td>3368.0</td>\n",
       "    </tr>\n",
       "    <tr>\n",
       "      <th>27</th>\n",
       "      <td>Belo Horizonte</td>\n",
       "      <td>64.0</td>\n",
       "      <td>2</td>\n",
       "      <td>2</td>\n",
       "      <td>1</td>\n",
       "      <td>11.000000</td>\n",
       "      <td>acept</td>\n",
       "      <td>not furnished</td>\n",
       "      <td>1952.0</td>\n",
       "    </tr>\n",
       "    <tr>\n",
       "      <th>...</th>\n",
       "      <td>...</td>\n",
       "      <td>...</td>\n",
       "      <td>...</td>\n",
       "      <td>...</td>\n",
       "      <td>...</td>\n",
       "      <td>...</td>\n",
       "      <td>...</td>\n",
       "      <td>...</td>\n",
       "      <td>...</td>\n",
       "    </tr>\n",
       "    <tr>\n",
       "      <th>10661</th>\n",
       "      <td>Campinas</td>\n",
       "      <td>250.0</td>\n",
       "      <td>1</td>\n",
       "      <td>2</td>\n",
       "      <td>2</td>\n",
       "      <td>0.000000</td>\n",
       "      <td>acept</td>\n",
       "      <td>not furnished</td>\n",
       "      <td>2836.0</td>\n",
       "    </tr>\n",
       "    <tr>\n",
       "      <th>10665</th>\n",
       "      <td>Belo Horizonte</td>\n",
       "      <td>55.0</td>\n",
       "      <td>2</td>\n",
       "      <td>1</td>\n",
       "      <td>1</td>\n",
       "      <td>2.000000</td>\n",
       "      <td>not acept</td>\n",
       "      <td>furnished</td>\n",
       "      <td>1897.0</td>\n",
       "    </tr>\n",
       "    <tr>\n",
       "      <th>10667</th>\n",
       "      <td>Belo Horizonte</td>\n",
       "      <td>75.0</td>\n",
       "      <td>2</td>\n",
       "      <td>1</td>\n",
       "      <td>1</td>\n",
       "      <td>3.000000</td>\n",
       "      <td>not acept</td>\n",
       "      <td>not furnished</td>\n",
       "      <td>1447.0</td>\n",
       "    </tr>\n",
       "    <tr>\n",
       "      <th>10676</th>\n",
       "      <td>Porto Alegre</td>\n",
       "      <td>40.0</td>\n",
       "      <td>1</td>\n",
       "      <td>1</td>\n",
       "      <td>0</td>\n",
       "      <td>1.000000</td>\n",
       "      <td>acept</td>\n",
       "      <td>not furnished</td>\n",
       "      <td>1707.0</td>\n",
       "    </tr>\n",
       "    <tr>\n",
       "      <th>10687</th>\n",
       "      <td>Porto Alegre</td>\n",
       "      <td>63.0</td>\n",
       "      <td>2</td>\n",
       "      <td>1</td>\n",
       "      <td>1</td>\n",
       "      <td>5.000000</td>\n",
       "      <td>not acept</td>\n",
       "      <td>furnished</td>\n",
       "      <td>1926.0</td>\n",
       "    </tr>\n",
       "  </tbody>\n",
       "</table>\n",
       "<p>1705 rows × 9 columns</p>\n",
       "</div>"
      ],
      "text/plain": [
       "                 city   area  rooms  bathroom  parking spaces      floor  \\\n",
       "2        Porto Alegre   80.0      1         1               1   6.000000   \n",
       "3        Porto Alegre   51.0      2         1               0   2.000000   \n",
       "11           Campinas   46.0      1         1               1  10.000000   \n",
       "21     Belo Horizonte   42.0      1         1               1   3.990012   \n",
       "27     Belo Horizonte   64.0      2         2               1  11.000000   \n",
       "...               ...    ...    ...       ...             ...        ...   \n",
       "10661        Campinas  250.0      1         2               2   0.000000   \n",
       "10665  Belo Horizonte   55.0      2         1               1   2.000000   \n",
       "10667  Belo Horizonte   75.0      2         1               1   3.000000   \n",
       "10676    Porto Alegre   40.0      1         1               0   1.000000   \n",
       "10687    Porto Alegre   63.0      2         1               1   5.000000   \n",
       "\n",
       "          animal      furniture  total (R$)  \n",
       "2          acept  not furnished      3841.0  \n",
       "3          acept  not furnished      1421.0  \n",
       "11         acept  not furnished      1181.0  \n",
       "21     not acept      furnished      3368.0  \n",
       "27         acept  not furnished      1952.0  \n",
       "...          ...            ...         ...  \n",
       "10661      acept  not furnished      2836.0  \n",
       "10665  not acept      furnished      1897.0  \n",
       "10667  not acept  not furnished      1447.0  \n",
       "10676      acept  not furnished      1707.0  \n",
       "10687  not acept      furnished      1926.0  \n",
       "\n",
       "[1705 rows x 9 columns]"
      ]
     },
     "execution_count": 46,
     "metadata": {},
     "output_type": "execute_result"
    }
   ],
   "source": [
    "#filter the records for bachleors.\n",
    "\n",
    "B_df = df1[df1['rooms']<=2]\n",
    "B_df"
   ]
  },
  {
   "cell_type": "code",
   "execution_count": 47,
   "id": "4cebf6e8",
   "metadata": {},
   "outputs": [
    {
     "data": {
      "image/png": "[encoded data removed]",
      "text/plain": [
       "<Figure size 1000x500 with 1 Axes>"
      ]
     },
     "metadata": {},
     "output_type": "display_data"
    }
   ],
   "source": [
    "def bar_percentage(ax, count: \"number of rows in data \"):\n",
    "    for bar in ax.patches:                                            \n",
    "        percentage = f\"{round((bar.get_height() / count) *100, 2)}%\"  \n",
    "                                                                           \n",
    "        x = bar.get_x() + bar.get_width() /2                          \n",
    "        y = bar.get_height()                                          \n",
    "        ax.annotate(percentage, (x, y), va = \"bottom\", ha = \"center\") \n",
    "                                                                      \n",
    "    plt.show()\n",
    "\n",
    "fig, ax = plt.subplots(figsize = (10, 5))\n",
    "sns.countplot(x = \"city\", data = B_df)\n",
    "plt.title('bachelors room wise')\n",
    "\n",
    "bar_percentage(ax, len(B_df))\n"
   ]
  },
  {
   "cell_type": "markdown",
   "id": "9e56d48d",
   "metadata": {},
   "source": [
    "### Interpretation:\n",
    "\n",
    "For the bachelors, who want single or double rooms.\n",
    "As per the to the above count plot, Porto alegera city has 47% with <=2 rooms ."
   ]
  },
  {
   "cell_type": "markdown",
   "id": "aa4fdef2",
   "metadata": {},
   "source": [
    "## Level 2: Bivariate Analysis"
   ]
  },
  {
   "cell_type": "markdown",
   "id": "f1847d6a",
   "metadata": {},
   "source": [
    "## Relationship of Area with city."
   ]
  },
  {
   "cell_type": "code",
   "execution_count": 48,
   "id": "f9dbb1f3",
   "metadata": {},
   "outputs": [
    {
     "data": {
      "image/png": "[encoded data removed]",
      "text/plain": [
       "<Figure size 5000x700 with 1 Axes>"
      ]
     },
     "metadata": {},
     "output_type": "display_data"
    }
   ],
   "source": [
    "fig, ax = plt.subplots(figsize = (50, 7))\n",
    "sns.countplot(x = \"area\", hue = \"city\", data = B_df)\n",
    "plt.show()"
   ]
  },
  {
   "cell_type": "markdown",
   "id": "44e79136",
   "metadata": {},
   "source": [
    "# Interpretation:\n",
    "\n",
    "For the bachelors, Porto algere and Belo Horizonte are the cities have wide range of rooms available  than Campinas city with area 20-120.\n"
   ]
  },
  {
   "cell_type": "markdown",
   "id": "81e69887",
   "metadata": {},
   "source": [
    "# Level 3: Multivariate Analysis"
   ]
  },
  {
   "cell_type": "markdown",
   "id": "9bd811f8",
   "metadata": {},
   "source": [
    "## Further Analysis:\n",
    "\n",
    "which are the cities for bachelors with area between 30-100 ? To consider which city has more spreaded? "
   ]
  },
  {
   "cell_type": "code",
   "execution_count": 49,
   "id": "9c8b2950",
   "metadata": {},
   "outputs": [
    {
     "data": {
      "text/plain": [
       "1863.7377360612966"
      ]
     },
     "execution_count": 49,
     "metadata": {},
     "output_type": "execute_result"
    }
   ],
   "source": [
    "B_df1 =  B_df[(B_df[\"area\"] >= 30) & (B_df[\"area\"] <= 100)]\n",
    "B_df1\n",
    "a=B_df1['total (R$)'].mean()\n",
    "a"
   ]
  },
  {
   "cell_type": "code",
   "execution_count": 50,
   "id": "97a8e254",
   "metadata": {},
   "outputs": [],
   "source": [
    "B_df1 = B_df1[B_df1['total (R$)'] <=a]"
   ]
  },
  {
   "cell_type": "code",
   "execution_count": 51,
   "id": "9c7d124b",
   "metadata": {},
   "outputs": [
    {
     "data": {
      "text/html": [
       "<div>\n",
       "<style scoped>\n",
       "    .dataframe tbody tr th:only-of-type {\n",
       "        vertical-align: middle;\n",
       "    }\n",
       "\n",
       "    .dataframe tbody tr th {\n",
       "        vertical-align: top;\n",
       "    }\n",
       "\n",
       "    .dataframe thead th {\n",
       "        text-align: right;\n",
       "    }\n",
       "</style>\n",
       "<table border=\"1\" class=\"dataframe\">\n",
       "  <thead>\n",
       "    <tr style=\"text-align: right;\">\n",
       "      <th></th>\n",
       "      <th>city</th>\n",
       "      <th>area</th>\n",
       "      <th>rooms</th>\n",
       "      <th>bathroom</th>\n",
       "      <th>parking spaces</th>\n",
       "      <th>floor</th>\n",
       "      <th>animal</th>\n",
       "      <th>furniture</th>\n",
       "      <th>total (R$)</th>\n",
       "    </tr>\n",
       "  </thead>\n",
       "  <tbody>\n",
       "    <tr>\n",
       "      <th>3</th>\n",
       "      <td>Porto Alegre</td>\n",
       "      <td>51.0</td>\n",
       "      <td>2</td>\n",
       "      <td>1</td>\n",
       "      <td>0</td>\n",
       "      <td>2.0</td>\n",
       "      <td>acept</td>\n",
       "      <td>not furnished</td>\n",
       "      <td>1421.0</td>\n",
       "    </tr>\n",
       "    <tr>\n",
       "      <th>11</th>\n",
       "      <td>Campinas</td>\n",
       "      <td>46.0</td>\n",
       "      <td>1</td>\n",
       "      <td>1</td>\n",
       "      <td>1</td>\n",
       "      <td>10.0</td>\n",
       "      <td>acept</td>\n",
       "      <td>not furnished</td>\n",
       "      <td>1181.0</td>\n",
       "    </tr>\n",
       "    <tr>\n",
       "      <th>84</th>\n",
       "      <td>Belo Horizonte</td>\n",
       "      <td>68.0</td>\n",
       "      <td>2</td>\n",
       "      <td>1</td>\n",
       "      <td>1</td>\n",
       "      <td>3.0</td>\n",
       "      <td>acept</td>\n",
       "      <td>not furnished</td>\n",
       "      <td>1563.0</td>\n",
       "    </tr>\n",
       "    <tr>\n",
       "      <th>96</th>\n",
       "      <td>Campinas</td>\n",
       "      <td>44.0</td>\n",
       "      <td>1</td>\n",
       "      <td>1</td>\n",
       "      <td>0</td>\n",
       "      <td>7.0</td>\n",
       "      <td>acept</td>\n",
       "      <td>not furnished</td>\n",
       "      <td>919.0</td>\n",
       "    </tr>\n",
       "    <tr>\n",
       "      <th>100</th>\n",
       "      <td>Porto Alegre</td>\n",
       "      <td>50.0</td>\n",
       "      <td>1</td>\n",
       "      <td>1</td>\n",
       "      <td>1</td>\n",
       "      <td>1.0</td>\n",
       "      <td>acept</td>\n",
       "      <td>not furnished</td>\n",
       "      <td>1364.0</td>\n",
       "    </tr>\n",
       "    <tr>\n",
       "      <th>...</th>\n",
       "      <td>...</td>\n",
       "      <td>...</td>\n",
       "      <td>...</td>\n",
       "      <td>...</td>\n",
       "      <td>...</td>\n",
       "      <td>...</td>\n",
       "      <td>...</td>\n",
       "      <td>...</td>\n",
       "      <td>...</td>\n",
       "    </tr>\n",
       "    <tr>\n",
       "      <th>10642</th>\n",
       "      <td>Porto Alegre</td>\n",
       "      <td>40.0</td>\n",
       "      <td>1</td>\n",
       "      <td>1</td>\n",
       "      <td>0</td>\n",
       "      <td>2.0</td>\n",
       "      <td>acept</td>\n",
       "      <td>not furnished</td>\n",
       "      <td>950.0</td>\n",
       "    </tr>\n",
       "    <tr>\n",
       "      <th>10644</th>\n",
       "      <td>Belo Horizonte</td>\n",
       "      <td>65.0</td>\n",
       "      <td>2</td>\n",
       "      <td>1</td>\n",
       "      <td>1</td>\n",
       "      <td>1.0</td>\n",
       "      <td>acept</td>\n",
       "      <td>not furnished</td>\n",
       "      <td>1385.0</td>\n",
       "    </tr>\n",
       "    <tr>\n",
       "      <th>10648</th>\n",
       "      <td>Belo Horizonte</td>\n",
       "      <td>80.0</td>\n",
       "      <td>2</td>\n",
       "      <td>1</td>\n",
       "      <td>1</td>\n",
       "      <td>3.0</td>\n",
       "      <td>not acept</td>\n",
       "      <td>not furnished</td>\n",
       "      <td>1523.0</td>\n",
       "    </tr>\n",
       "    <tr>\n",
       "      <th>10667</th>\n",
       "      <td>Belo Horizonte</td>\n",
       "      <td>75.0</td>\n",
       "      <td>2</td>\n",
       "      <td>1</td>\n",
       "      <td>1</td>\n",
       "      <td>3.0</td>\n",
       "      <td>not acept</td>\n",
       "      <td>not furnished</td>\n",
       "      <td>1447.0</td>\n",
       "    </tr>\n",
       "    <tr>\n",
       "      <th>10676</th>\n",
       "      <td>Porto Alegre</td>\n",
       "      <td>40.0</td>\n",
       "      <td>1</td>\n",
       "      <td>1</td>\n",
       "      <td>0</td>\n",
       "      <td>1.0</td>\n",
       "      <td>acept</td>\n",
       "      <td>not furnished</td>\n",
       "      <td>1707.0</td>\n",
       "    </tr>\n",
       "  </tbody>\n",
       "</table>\n",
       "<p>964 rows × 9 columns</p>\n",
       "</div>"
      ],
      "text/plain": [
       "                 city  area  rooms  bathroom  parking spaces  floor  \\\n",
       "3        Porto Alegre  51.0      2         1               0    2.0   \n",
       "11           Campinas  46.0      1         1               1   10.0   \n",
       "84     Belo Horizonte  68.0      2         1               1    3.0   \n",
       "96           Campinas  44.0      1         1               0    7.0   \n",
       "100      Porto Alegre  50.0      1         1               1    1.0   \n",
       "...               ...   ...    ...       ...             ...    ...   \n",
       "10642    Porto Alegre  40.0      1         1               0    2.0   \n",
       "10644  Belo Horizonte  65.0      2         1               1    1.0   \n",
       "10648  Belo Horizonte  80.0      2         1               1    3.0   \n",
       "10667  Belo Horizonte  75.0      2         1               1    3.0   \n",
       "10676    Porto Alegre  40.0      1         1               0    1.0   \n",
       "\n",
       "          animal      furniture  total (R$)  \n",
       "3          acept  not furnished      1421.0  \n",
       "11         acept  not furnished      1181.0  \n",
       "84         acept  not furnished      1563.0  \n",
       "96         acept  not furnished       919.0  \n",
       "100        acept  not furnished      1364.0  \n",
       "...          ...            ...         ...  \n",
       "10642      acept  not furnished       950.0  \n",
       "10644      acept  not furnished      1385.0  \n",
       "10648  not acept  not furnished      1523.0  \n",
       "10667  not acept  not furnished      1447.0  \n",
       "10676      acept  not furnished      1707.0  \n",
       "\n",
       "[964 rows x 9 columns]"
      ]
     },
     "execution_count": 51,
     "metadata": {},
     "output_type": "execute_result"
    }
   ],
   "source": [
    "B_df1"
   ]
  },
  {
   "cell_type": "code",
   "execution_count": 52,
   "id": "84473795",
   "metadata": {},
   "outputs": [
    {
     "data": {
      "image/png": "[encoded data removed]",
      "text/plain": [
       "<Figure size 5000x700 with 1 Axes>"
      ]
     },
     "metadata": {},
     "output_type": "display_data"
    }
   ],
   "source": [
    "fig, ax = plt.subplots(figsize = (50, 7))\n",
    "sns.countplot(x = \"area\", hue = \"city\", data = B_df1)\n",
    "plt.show()"
   ]
  },
  {
   "cell_type": "code",
   "execution_count": 53,
   "id": "f6f649cc",
   "metadata": {},
   "outputs": [
    {
     "data": {
      "image/png": "[encoded data removed]",
      "text/plain": [
       "<Figure size 800x600 with 1 Axes>"
      ]
     },
     "metadata": {},
     "output_type": "display_data"
    }
   ],
   "source": [
    "plt.figure(figsize=(8,6))\n",
    "sns.boxplot(x='area',y='city',data=B_df1)\n",
    "plt.show()"
   ]
  },
  {
   "cell_type": "markdown",
   "id": "ae3661d7",
   "metadata": {},
   "source": [
    "# Interpretation:\n",
    "Belo Horizonte and Porto Algre have the highest range of houses with area between 30-100, with <=2 rooms."
   ]
  },
  {
   "cell_type": "markdown",
   "id": "18527372",
   "metadata": {},
   "source": [
    "### Deeper Analysis\n",
    "To find which city have most affordable place for batchelors to relocate.We consider the area lay between the 30 -100, and other facilities like bathroom and furniture."
   ]
  },
  {
   "cell_type": "code",
   "execution_count": 54,
   "id": "2c363470",
   "metadata": {},
   "outputs": [
    {
     "data": {
      "text/plain": [
       "1445.3725490196077"
      ]
     },
     "execution_count": 54,
     "metadata": {},
     "output_type": "execute_result"
    }
   ],
   "source": [
    "B_df1 =  B_df1[(B_df1['bathroom']<=2)&(B_df1['furniture']=='furnished')]\n",
    "B_df1\n",
    "a=B_df1['total (R$)'].mean()\n",
    "a"
   ]
  },
  {
   "cell_type": "code",
   "execution_count": 55,
   "id": "03d35173",
   "metadata": {},
   "outputs": [],
   "source": [
    "B_df1 = B_df1[B_df1['total (R$)'] <=a]"
   ]
  },
  {
   "cell_type": "code",
   "execution_count": 56,
   "id": "cbc0346f",
   "metadata": {},
   "outputs": [
    {
     "data": {
      "text/html": [
       "<div>\n",
       "<style scoped>\n",
       "    .dataframe tbody tr th:only-of-type {\n",
       "        vertical-align: middle;\n",
       "    }\n",
       "\n",
       "    .dataframe tbody tr th {\n",
       "        vertical-align: top;\n",
       "    }\n",
       "\n",
       "    .dataframe thead th {\n",
       "        text-align: right;\n",
       "    }\n",
       "</style>\n",
       "<table border=\"1\" class=\"dataframe\">\n",
       "  <thead>\n",
       "    <tr style=\"text-align: right;\">\n",
       "      <th></th>\n",
       "      <th>city</th>\n",
       "      <th>area</th>\n",
       "      <th>rooms</th>\n",
       "      <th>bathroom</th>\n",
       "      <th>parking spaces</th>\n",
       "      <th>floor</th>\n",
       "      <th>animal</th>\n",
       "      <th>furniture</th>\n",
       "      <th>total (R$)</th>\n",
       "    </tr>\n",
       "  </thead>\n",
       "  <tbody>\n",
       "    <tr>\n",
       "      <th>136</th>\n",
       "      <td>Campinas</td>\n",
       "      <td>44.0</td>\n",
       "      <td>1</td>\n",
       "      <td>1</td>\n",
       "      <td>0</td>\n",
       "      <td>3.0</td>\n",
       "      <td>acept</td>\n",
       "      <td>furnished</td>\n",
       "      <td>1290.0</td>\n",
       "    </tr>\n",
       "    <tr>\n",
       "      <th>620</th>\n",
       "      <td>Porto Alegre</td>\n",
       "      <td>42.0</td>\n",
       "      <td>1</td>\n",
       "      <td>1</td>\n",
       "      <td>0</td>\n",
       "      <td>1.0</td>\n",
       "      <td>acept</td>\n",
       "      <td>furnished</td>\n",
       "      <td>1263.0</td>\n",
       "    </tr>\n",
       "    <tr>\n",
       "      <th>772</th>\n",
       "      <td>Porto Alegre</td>\n",
       "      <td>55.0</td>\n",
       "      <td>2</td>\n",
       "      <td>1</td>\n",
       "      <td>1</td>\n",
       "      <td>0.0</td>\n",
       "      <td>acept</td>\n",
       "      <td>furnished</td>\n",
       "      <td>1358.0</td>\n",
       "    </tr>\n",
       "    <tr>\n",
       "      <th>910</th>\n",
       "      <td>Belo Horizonte</td>\n",
       "      <td>40.0</td>\n",
       "      <td>1</td>\n",
       "      <td>1</td>\n",
       "      <td>1</td>\n",
       "      <td>2.0</td>\n",
       "      <td>not acept</td>\n",
       "      <td>furnished</td>\n",
       "      <td>983.0</td>\n",
       "    </tr>\n",
       "    <tr>\n",
       "      <th>920</th>\n",
       "      <td>Belo Horizonte</td>\n",
       "      <td>40.0</td>\n",
       "      <td>1</td>\n",
       "      <td>1</td>\n",
       "      <td>1</td>\n",
       "      <td>2.0</td>\n",
       "      <td>not acept</td>\n",
       "      <td>furnished</td>\n",
       "      <td>983.0</td>\n",
       "    </tr>\n",
       "    <tr>\n",
       "      <th>1068</th>\n",
       "      <td>Campinas</td>\n",
       "      <td>47.0</td>\n",
       "      <td>1</td>\n",
       "      <td>1</td>\n",
       "      <td>0</td>\n",
       "      <td>1.0</td>\n",
       "      <td>acept</td>\n",
       "      <td>furnished</td>\n",
       "      <td>951.0</td>\n",
       "    </tr>\n",
       "    <tr>\n",
       "      <th>1366</th>\n",
       "      <td>Porto Alegre</td>\n",
       "      <td>42.0</td>\n",
       "      <td>1</td>\n",
       "      <td>1</td>\n",
       "      <td>0</td>\n",
       "      <td>3.0</td>\n",
       "      <td>acept</td>\n",
       "      <td>furnished</td>\n",
       "      <td>1216.0</td>\n",
       "    </tr>\n",
       "    <tr>\n",
       "      <th>1550</th>\n",
       "      <td>Porto Alegre</td>\n",
       "      <td>32.0</td>\n",
       "      <td>1</td>\n",
       "      <td>1</td>\n",
       "      <td>0</td>\n",
       "      <td>0.0</td>\n",
       "      <td>acept</td>\n",
       "      <td>furnished</td>\n",
       "      <td>1014.0</td>\n",
       "    </tr>\n",
       "    <tr>\n",
       "      <th>1558</th>\n",
       "      <td>Porto Alegre</td>\n",
       "      <td>35.0</td>\n",
       "      <td>1</td>\n",
       "      <td>1</td>\n",
       "      <td>0</td>\n",
       "      <td>3.0</td>\n",
       "      <td>acept</td>\n",
       "      <td>furnished</td>\n",
       "      <td>1108.0</td>\n",
       "    </tr>\n",
       "    <tr>\n",
       "      <th>1644</th>\n",
       "      <td>Porto Alegre</td>\n",
       "      <td>35.0</td>\n",
       "      <td>2</td>\n",
       "      <td>1</td>\n",
       "      <td>0</td>\n",
       "      <td>1.0</td>\n",
       "      <td>not acept</td>\n",
       "      <td>furnished</td>\n",
       "      <td>1370.0</td>\n",
       "    </tr>\n",
       "    <tr>\n",
       "      <th>1916</th>\n",
       "      <td>Campinas</td>\n",
       "      <td>30.0</td>\n",
       "      <td>1</td>\n",
       "      <td>1</td>\n",
       "      <td>0</td>\n",
       "      <td>5.0</td>\n",
       "      <td>not acept</td>\n",
       "      <td>furnished</td>\n",
       "      <td>897.0</td>\n",
       "    </tr>\n",
       "    <tr>\n",
       "      <th>2742</th>\n",
       "      <td>Porto Alegre</td>\n",
       "      <td>60.0</td>\n",
       "      <td>1</td>\n",
       "      <td>1</td>\n",
       "      <td>0</td>\n",
       "      <td>2.0</td>\n",
       "      <td>not acept</td>\n",
       "      <td>furnished</td>\n",
       "      <td>1288.0</td>\n",
       "    </tr>\n",
       "    <tr>\n",
       "      <th>2988</th>\n",
       "      <td>Porto Alegre</td>\n",
       "      <td>39.0</td>\n",
       "      <td>1</td>\n",
       "      <td>1</td>\n",
       "      <td>1</td>\n",
       "      <td>1.0</td>\n",
       "      <td>not acept</td>\n",
       "      <td>furnished</td>\n",
       "      <td>1126.0</td>\n",
       "    </tr>\n",
       "    <tr>\n",
       "      <th>3051</th>\n",
       "      <td>Porto Alegre</td>\n",
       "      <td>30.0</td>\n",
       "      <td>1</td>\n",
       "      <td>1</td>\n",
       "      <td>0</td>\n",
       "      <td>1.0</td>\n",
       "      <td>acept</td>\n",
       "      <td>furnished</td>\n",
       "      <td>1111.0</td>\n",
       "    </tr>\n",
       "    <tr>\n",
       "      <th>3336</th>\n",
       "      <td>Porto Alegre</td>\n",
       "      <td>50.0</td>\n",
       "      <td>1</td>\n",
       "      <td>1</td>\n",
       "      <td>0</td>\n",
       "      <td>0.0</td>\n",
       "      <td>acept</td>\n",
       "      <td>furnished</td>\n",
       "      <td>1133.0</td>\n",
       "    </tr>\n",
       "    <tr>\n",
       "      <th>3649</th>\n",
       "      <td>Porto Alegre</td>\n",
       "      <td>58.0</td>\n",
       "      <td>2</td>\n",
       "      <td>1</td>\n",
       "      <td>0</td>\n",
       "      <td>1.0</td>\n",
       "      <td>acept</td>\n",
       "      <td>furnished</td>\n",
       "      <td>1319.0</td>\n",
       "    </tr>\n",
       "    <tr>\n",
       "      <th>3719</th>\n",
       "      <td>Porto Alegre</td>\n",
       "      <td>40.0</td>\n",
       "      <td>1</td>\n",
       "      <td>1</td>\n",
       "      <td>0</td>\n",
       "      <td>3.0</td>\n",
       "      <td>acept</td>\n",
       "      <td>furnished</td>\n",
       "      <td>1153.0</td>\n",
       "    </tr>\n",
       "    <tr>\n",
       "      <th>3744</th>\n",
       "      <td>Porto Alegre</td>\n",
       "      <td>39.0</td>\n",
       "      <td>1</td>\n",
       "      <td>1</td>\n",
       "      <td>1</td>\n",
       "      <td>2.0</td>\n",
       "      <td>acept</td>\n",
       "      <td>furnished</td>\n",
       "      <td>1157.0</td>\n",
       "    </tr>\n",
       "    <tr>\n",
       "      <th>3850</th>\n",
       "      <td>Porto Alegre</td>\n",
       "      <td>40.0</td>\n",
       "      <td>1</td>\n",
       "      <td>1</td>\n",
       "      <td>0</td>\n",
       "      <td>5.0</td>\n",
       "      <td>acept</td>\n",
       "      <td>furnished</td>\n",
       "      <td>1208.0</td>\n",
       "    </tr>\n",
       "    <tr>\n",
       "      <th>3851</th>\n",
       "      <td>Porto Alegre</td>\n",
       "      <td>35.0</td>\n",
       "      <td>1</td>\n",
       "      <td>1</td>\n",
       "      <td>1</td>\n",
       "      <td>1.0</td>\n",
       "      <td>not acept</td>\n",
       "      <td>furnished</td>\n",
       "      <td>1421.0</td>\n",
       "    </tr>\n",
       "    <tr>\n",
       "      <th>4055</th>\n",
       "      <td>Belo Horizonte</td>\n",
       "      <td>60.0</td>\n",
       "      <td>2</td>\n",
       "      <td>1</td>\n",
       "      <td>1</td>\n",
       "      <td>1.0</td>\n",
       "      <td>acept</td>\n",
       "      <td>furnished</td>\n",
       "      <td>1254.0</td>\n",
       "    </tr>\n",
       "    <tr>\n",
       "      <th>4249</th>\n",
       "      <td>Campinas</td>\n",
       "      <td>55.0</td>\n",
       "      <td>1</td>\n",
       "      <td>1</td>\n",
       "      <td>1</td>\n",
       "      <td>0.0</td>\n",
       "      <td>acept</td>\n",
       "      <td>furnished</td>\n",
       "      <td>1194.0</td>\n",
       "    </tr>\n",
       "    <tr>\n",
       "      <th>4689</th>\n",
       "      <td>Belo Horizonte</td>\n",
       "      <td>30.0</td>\n",
       "      <td>1</td>\n",
       "      <td>1</td>\n",
       "      <td>1</td>\n",
       "      <td>2.0</td>\n",
       "      <td>not acept</td>\n",
       "      <td>furnished</td>\n",
       "      <td>872.0</td>\n",
       "    </tr>\n",
       "    <tr>\n",
       "      <th>4746</th>\n",
       "      <td>Porto Alegre</td>\n",
       "      <td>38.0</td>\n",
       "      <td>1</td>\n",
       "      <td>1</td>\n",
       "      <td>0</td>\n",
       "      <td>6.0</td>\n",
       "      <td>acept</td>\n",
       "      <td>furnished</td>\n",
       "      <td>1427.0</td>\n",
       "    </tr>\n",
       "    <tr>\n",
       "      <th>4852</th>\n",
       "      <td>Campinas</td>\n",
       "      <td>44.0</td>\n",
       "      <td>1</td>\n",
       "      <td>1</td>\n",
       "      <td>0</td>\n",
       "      <td>8.0</td>\n",
       "      <td>acept</td>\n",
       "      <td>furnished</td>\n",
       "      <td>1102.0</td>\n",
       "    </tr>\n",
       "    <tr>\n",
       "      <th>5154</th>\n",
       "      <td>Campinas</td>\n",
       "      <td>57.0</td>\n",
       "      <td>2</td>\n",
       "      <td>1</td>\n",
       "      <td>1</td>\n",
       "      <td>1.0</td>\n",
       "      <td>acept</td>\n",
       "      <td>furnished</td>\n",
       "      <td>1419.0</td>\n",
       "    </tr>\n",
       "    <tr>\n",
       "      <th>5209</th>\n",
       "      <td>Porto Alegre</td>\n",
       "      <td>40.0</td>\n",
       "      <td>1</td>\n",
       "      <td>1</td>\n",
       "      <td>0</td>\n",
       "      <td>1.0</td>\n",
       "      <td>acept</td>\n",
       "      <td>furnished</td>\n",
       "      <td>831.0</td>\n",
       "    </tr>\n",
       "    <tr>\n",
       "      <th>5595</th>\n",
       "      <td>Belo Horizonte</td>\n",
       "      <td>51.0</td>\n",
       "      <td>2</td>\n",
       "      <td>1</td>\n",
       "      <td>0</td>\n",
       "      <td>2.0</td>\n",
       "      <td>acept</td>\n",
       "      <td>furnished</td>\n",
       "      <td>1206.0</td>\n",
       "    </tr>\n",
       "    <tr>\n",
       "      <th>5684</th>\n",
       "      <td>Campinas</td>\n",
       "      <td>47.0</td>\n",
       "      <td>1</td>\n",
       "      <td>1</td>\n",
       "      <td>0</td>\n",
       "      <td>10.0</td>\n",
       "      <td>not acept</td>\n",
       "      <td>furnished</td>\n",
       "      <td>1340.0</td>\n",
       "    </tr>\n",
       "    <tr>\n",
       "      <th>5868</th>\n",
       "      <td>Porto Alegre</td>\n",
       "      <td>30.0</td>\n",
       "      <td>1</td>\n",
       "      <td>1</td>\n",
       "      <td>0</td>\n",
       "      <td>2.0</td>\n",
       "      <td>acept</td>\n",
       "      <td>furnished</td>\n",
       "      <td>1359.0</td>\n",
       "    </tr>\n",
       "    <tr>\n",
       "      <th>6670</th>\n",
       "      <td>Porto Alegre</td>\n",
       "      <td>40.0</td>\n",
       "      <td>1</td>\n",
       "      <td>1</td>\n",
       "      <td>0</td>\n",
       "      <td>2.0</td>\n",
       "      <td>acept</td>\n",
       "      <td>furnished</td>\n",
       "      <td>1322.0</td>\n",
       "    </tr>\n",
       "    <tr>\n",
       "      <th>6862</th>\n",
       "      <td>Porto Alegre</td>\n",
       "      <td>35.0</td>\n",
       "      <td>1</td>\n",
       "      <td>1</td>\n",
       "      <td>0</td>\n",
       "      <td>0.0</td>\n",
       "      <td>acept</td>\n",
       "      <td>furnished</td>\n",
       "      <td>1092.0</td>\n",
       "    </tr>\n",
       "    <tr>\n",
       "      <th>6999</th>\n",
       "      <td>Porto Alegre</td>\n",
       "      <td>39.0</td>\n",
       "      <td>1</td>\n",
       "      <td>1</td>\n",
       "      <td>0</td>\n",
       "      <td>2.0</td>\n",
       "      <td>acept</td>\n",
       "      <td>furnished</td>\n",
       "      <td>920.0</td>\n",
       "    </tr>\n",
       "    <tr>\n",
       "      <th>7067</th>\n",
       "      <td>Porto Alegre</td>\n",
       "      <td>44.0</td>\n",
       "      <td>1</td>\n",
       "      <td>1</td>\n",
       "      <td>0</td>\n",
       "      <td>4.0</td>\n",
       "      <td>acept</td>\n",
       "      <td>furnished</td>\n",
       "      <td>835.0</td>\n",
       "    </tr>\n",
       "    <tr>\n",
       "      <th>7359</th>\n",
       "      <td>Porto Alegre</td>\n",
       "      <td>42.0</td>\n",
       "      <td>1</td>\n",
       "      <td>1</td>\n",
       "      <td>2</td>\n",
       "      <td>2.0</td>\n",
       "      <td>acept</td>\n",
       "      <td>furnished</td>\n",
       "      <td>1335.0</td>\n",
       "    </tr>\n",
       "    <tr>\n",
       "      <th>8243</th>\n",
       "      <td>Porto Alegre</td>\n",
       "      <td>50.0</td>\n",
       "      <td>1</td>\n",
       "      <td>1</td>\n",
       "      <td>0</td>\n",
       "      <td>2.0</td>\n",
       "      <td>acept</td>\n",
       "      <td>furnished</td>\n",
       "      <td>1269.0</td>\n",
       "    </tr>\n",
       "    <tr>\n",
       "      <th>8392</th>\n",
       "      <td>Porto Alegre</td>\n",
       "      <td>40.0</td>\n",
       "      <td>1</td>\n",
       "      <td>1</td>\n",
       "      <td>1</td>\n",
       "      <td>1.0</td>\n",
       "      <td>not acept</td>\n",
       "      <td>furnished</td>\n",
       "      <td>1324.0</td>\n",
       "    </tr>\n",
       "    <tr>\n",
       "      <th>9028</th>\n",
       "      <td>Porto Alegre</td>\n",
       "      <td>46.0</td>\n",
       "      <td>1</td>\n",
       "      <td>1</td>\n",
       "      <td>1</td>\n",
       "      <td>1.0</td>\n",
       "      <td>acept</td>\n",
       "      <td>furnished</td>\n",
       "      <td>1046.0</td>\n",
       "    </tr>\n",
       "    <tr>\n",
       "      <th>9056</th>\n",
       "      <td>Porto Alegre</td>\n",
       "      <td>40.0</td>\n",
       "      <td>1</td>\n",
       "      <td>1</td>\n",
       "      <td>1</td>\n",
       "      <td>10.0</td>\n",
       "      <td>acept</td>\n",
       "      <td>furnished</td>\n",
       "      <td>1428.0</td>\n",
       "    </tr>\n",
       "    <tr>\n",
       "      <th>9080</th>\n",
       "      <td>Porto Alegre</td>\n",
       "      <td>48.0</td>\n",
       "      <td>1</td>\n",
       "      <td>1</td>\n",
       "      <td>1</td>\n",
       "      <td>5.0</td>\n",
       "      <td>acept</td>\n",
       "      <td>furnished</td>\n",
       "      <td>1373.0</td>\n",
       "    </tr>\n",
       "    <tr>\n",
       "      <th>9109</th>\n",
       "      <td>Porto Alegre</td>\n",
       "      <td>54.0</td>\n",
       "      <td>2</td>\n",
       "      <td>1</td>\n",
       "      <td>1</td>\n",
       "      <td>8.0</td>\n",
       "      <td>acept</td>\n",
       "      <td>furnished</td>\n",
       "      <td>1365.0</td>\n",
       "    </tr>\n",
       "    <tr>\n",
       "      <th>9709</th>\n",
       "      <td>Campinas</td>\n",
       "      <td>37.0</td>\n",
       "      <td>1</td>\n",
       "      <td>1</td>\n",
       "      <td>0</td>\n",
       "      <td>4.0</td>\n",
       "      <td>not acept</td>\n",
       "      <td>furnished</td>\n",
       "      <td>1134.0</td>\n",
       "    </tr>\n",
       "    <tr>\n",
       "      <th>9761</th>\n",
       "      <td>Porto Alegre</td>\n",
       "      <td>30.0</td>\n",
       "      <td>1</td>\n",
       "      <td>1</td>\n",
       "      <td>1</td>\n",
       "      <td>1.0</td>\n",
       "      <td>not acept</td>\n",
       "      <td>furnished</td>\n",
       "      <td>1350.0</td>\n",
       "    </tr>\n",
       "    <tr>\n",
       "      <th>10208</th>\n",
       "      <td>Campinas</td>\n",
       "      <td>35.0</td>\n",
       "      <td>1</td>\n",
       "      <td>1</td>\n",
       "      <td>1</td>\n",
       "      <td>0.0</td>\n",
       "      <td>not acept</td>\n",
       "      <td>furnished</td>\n",
       "      <td>1016.0</td>\n",
       "    </tr>\n",
       "    <tr>\n",
       "      <th>10395</th>\n",
       "      <td>Belo Horizonte</td>\n",
       "      <td>70.0</td>\n",
       "      <td>2</td>\n",
       "      <td>1</td>\n",
       "      <td>1</td>\n",
       "      <td>0.0</td>\n",
       "      <td>acept</td>\n",
       "      <td>furnished</td>\n",
       "      <td>1423.0</td>\n",
       "    </tr>\n",
       "    <tr>\n",
       "      <th>10405</th>\n",
       "      <td>Campinas</td>\n",
       "      <td>37.0</td>\n",
       "      <td>1</td>\n",
       "      <td>1</td>\n",
       "      <td>0</td>\n",
       "      <td>4.0</td>\n",
       "      <td>not acept</td>\n",
       "      <td>furnished</td>\n",
       "      <td>1106.0</td>\n",
       "    </tr>\n",
       "  </tbody>\n",
       "</table>\n",
       "</div>"
      ],
      "text/plain": [
       "                 city  area  rooms  bathroom  parking spaces  floor  \\\n",
       "136          Campinas  44.0      1         1               0    3.0   \n",
       "620      Porto Alegre  42.0      1         1               0    1.0   \n",
       "772      Porto Alegre  55.0      2         1               1    0.0   \n",
       "910    Belo Horizonte  40.0      1         1               1    2.0   \n",
       "920    Belo Horizonte  40.0      1         1               1    2.0   \n",
       "1068         Campinas  47.0      1         1               0    1.0   \n",
       "1366     Porto Alegre  42.0      1         1               0    3.0   \n",
       "1550     Porto Alegre  32.0      1         1               0    0.0   \n",
       "1558     Porto Alegre  35.0      1         1               0    3.0   \n",
       "1644     Porto Alegre  35.0      2         1               0    1.0   \n",
       "1916         Campinas  30.0      1         1               0    5.0   \n",
       "2742     Porto Alegre  60.0      1         1               0    2.0   \n",
       "2988     Porto Alegre  39.0      1         1               1    1.0   \n",
       "3051     Porto Alegre  30.0      1         1               0    1.0   \n",
       "3336     Porto Alegre  50.0      1         1               0    0.0   \n",
       "3649     Porto Alegre  58.0      2         1               0    1.0   \n",
       "3719     Porto Alegre  40.0      1         1               0    3.0   \n",
       "3744     Porto Alegre  39.0      1         1               1    2.0   \n",
       "3850     Porto Alegre  40.0      1         1               0    5.0   \n",
       "3851     Porto Alegre  35.0      1         1               1    1.0   \n",
       "4055   Belo Horizonte  60.0      2         1               1    1.0   \n",
       "4249         Campinas  55.0      1         1               1    0.0   \n",
       "4689   Belo Horizonte  30.0      1         1               1    2.0   \n",
       "4746     Porto Alegre  38.0      1         1               0    6.0   \n",
       "4852         Campinas  44.0      1         1               0    8.0   \n",
       "5154         Campinas  57.0      2         1               1    1.0   \n",
       "5209     Porto Alegre  40.0      1         1               0    1.0   \n",
       "5595   Belo Horizonte  51.0      2         1               0    2.0   \n",
       "5684         Campinas  47.0      1         1               0   10.0   \n",
       "5868     Porto Alegre  30.0      1         1               0    2.0   \n",
       "6670     Porto Alegre  40.0      1         1               0    2.0   \n",
       "6862     Porto Alegre  35.0      1         1               0    0.0   \n",
       "6999     Porto Alegre  39.0      1         1               0    2.0   \n",
       "7067     Porto Alegre  44.0      1         1               0    4.0   \n",
       "7359     Porto Alegre  42.0      1         1               2    2.0   \n",
       "8243     Porto Alegre  50.0      1         1               0    2.0   \n",
       "8392     Porto Alegre  40.0      1         1               1    1.0   \n",
       "9028     Porto Alegre  46.0      1         1               1    1.0   \n",
       "9056     Porto Alegre  40.0      1         1               1   10.0   \n",
       "9080     Porto Alegre  48.0      1         1               1    5.0   \n",
       "9109     Porto Alegre  54.0      2         1               1    8.0   \n",
       "9709         Campinas  37.0      1         1               0    4.0   \n",
       "9761     Porto Alegre  30.0      1         1               1    1.0   \n",
       "10208        Campinas  35.0      1         1               1    0.0   \n",
       "10395  Belo Horizonte  70.0      2         1               1    0.0   \n",
       "10405        Campinas  37.0      1         1               0    4.0   \n",
       "\n",
       "          animal  furniture  total (R$)  \n",
       "136        acept  furnished      1290.0  \n",
       "620        acept  furnished      1263.0  \n",
       "772        acept  furnished      1358.0  \n",
       "910    not acept  furnished       983.0  \n",
       "920    not acept  furnished       983.0  \n",
       "1068       acept  furnished       951.0  \n",
       "1366       acept  furnished      1216.0  \n",
       "1550       acept  furnished      1014.0  \n",
       "1558       acept  furnished      1108.0  \n",
       "1644   not acept  furnished      1370.0  \n",
       "1916   not acept  furnished       897.0  \n",
       "2742   not acept  furnished      1288.0  \n",
       "2988   not acept  furnished      1126.0  \n",
       "3051       acept  furnished      1111.0  \n",
       "3336       acept  furnished      1133.0  \n",
       "3649       acept  furnished      1319.0  \n",
       "3719       acept  furnished      1153.0  \n",
       "3744       acept  furnished      1157.0  \n",
       "3850       acept  furnished      1208.0  \n",
       "3851   not acept  furnished      1421.0  \n",
       "4055       acept  furnished      1254.0  \n",
       "4249       acept  furnished      1194.0  \n",
       "4689   not acept  furnished       872.0  \n",
       "4746       acept  furnished      1427.0  \n",
       "4852       acept  furnished      1102.0  \n",
       "5154       acept  furnished      1419.0  \n",
       "5209       acept  furnished       831.0  \n",
       "5595       acept  furnished      1206.0  \n",
       "5684   not acept  furnished      1340.0  \n",
       "5868       acept  furnished      1359.0  \n",
       "6670       acept  furnished      1322.0  \n",
       "6862       acept  furnished      1092.0  \n",
       "6999       acept  furnished       920.0  \n",
       "7067       acept  furnished       835.0  \n",
       "7359       acept  furnished      1335.0  \n",
       "8243       acept  furnished      1269.0  \n",
       "8392   not acept  furnished      1324.0  \n",
       "9028       acept  furnished      1046.0  \n",
       "9056       acept  furnished      1428.0  \n",
       "9080       acept  furnished      1373.0  \n",
       "9109       acept  furnished      1365.0  \n",
       "9709   not acept  furnished      1134.0  \n",
       "9761   not acept  furnished      1350.0  \n",
       "10208  not acept  furnished      1016.0  \n",
       "10395      acept  furnished      1423.0  \n",
       "10405  not acept  furnished      1106.0  "
      ]
     },
     "execution_count": 56,
     "metadata": {},
     "output_type": "execute_result"
    }
   ],
   "source": [
    "B_df1"
   ]
  },
  {
   "cell_type": "code",
   "execution_count": 57,
   "id": "ab19460c",
   "metadata": {
    "scrolled": true
   },
   "outputs": [
    {
     "data": {
      "image/png": "[encoded data removed]",
      "text/plain": [
       "<Figure size 2500x700 with 1 Axes>"
      ]
     },
     "metadata": {},
     "output_type": "display_data"
    }
   ],
   "source": [
    "fig, ax = plt.subplots(figsize = (25, 7))\n",
    "sns.countplot(x = \"area\", hue = \"city\", data = B_df1)\n",
    "plt.show()"
   ]
  },
  {
   "cell_type": "code",
   "execution_count": 58,
   "id": "896012e6",
   "metadata": {},
   "outputs": [
    {
     "data": {
      "image/png": "[encoded data removed]",
      "text/plain": [
       "<Figure size 1000x600 with 1 Axes>"
      ]
     },
     "metadata": {},
     "output_type": "display_data"
    }
   ],
   "source": [
    "plt.figure(figsize=(10,6))\n",
    "sns.boxplot(x='area',y='city',data=B_df1)\n",
    "plt.show()"
   ]
  },
  {
   "cell_type": "markdown",
   "id": "895a7394",
   "metadata": {},
   "source": [
    "## Interpretation:\n",
    "Porto Alegre and Belo Horizonte have wide range of houses with area between 30 t0 100 , with <=2 rooms ,with low cost and all other facilities.\n",
    " As per the above count plot Porto Alegre and Belo Horizonte are the most affordable city for bachleors.\n",
    "    "
   ]
  },
  {
   "cell_type": "markdown",
   "id": "515398da",
   "metadata": {},
   "source": [
    "# Level 1: Univariate analysis of room for Mid-sized Families to relocate"
   ]
  },
  {
   "cell_type": "raw",
   "id": "e88c8d50",
   "metadata": {},
   "source": [
    "1.Filter the data according to the Mid-sized family requirements by rooms.\n",
    "2.Visualize the distribution to understand with suitable graph."
   ]
  },
  {
   "cell_type": "code",
   "execution_count": 59,
   "id": "ec71c1c3",
   "metadata": {},
   "outputs": [
    {
     "data": {
      "text/html": [
       "<div>\n",
       "<style scoped>\n",
       "    .dataframe tbody tr th:only-of-type {\n",
       "        vertical-align: middle;\n",
       "    }\n",
       "\n",
       "    .dataframe tbody tr th {\n",
       "        vertical-align: top;\n",
       "    }\n",
       "\n",
       "    .dataframe thead th {\n",
       "        text-align: right;\n",
       "    }\n",
       "</style>\n",
       "<table border=\"1\" class=\"dataframe\">\n",
       "  <thead>\n",
       "    <tr style=\"text-align: right;\">\n",
       "      <th></th>\n",
       "      <th>city</th>\n",
       "      <th>area</th>\n",
       "      <th>rooms</th>\n",
       "      <th>bathroom</th>\n",
       "      <th>parking spaces</th>\n",
       "      <th>floor</th>\n",
       "      <th>animal</th>\n",
       "      <th>furniture</th>\n",
       "      <th>total (R$)</th>\n",
       "    </tr>\n",
       "  </thead>\n",
       "  <tbody>\n",
       "    <tr>\n",
       "      <th>3</th>\n",
       "      <td>Porto Alegre</td>\n",
       "      <td>51.0000</td>\n",
       "      <td>2</td>\n",
       "      <td>1</td>\n",
       "      <td>0</td>\n",
       "      <td>2.000000</td>\n",
       "      <td>acept</td>\n",
       "      <td>not furnished</td>\n",
       "      <td>1421.000000</td>\n",
       "    </tr>\n",
       "    <tr>\n",
       "      <th>15</th>\n",
       "      <td>Campinas</td>\n",
       "      <td>151.8977</td>\n",
       "      <td>4</td>\n",
       "      <td>6</td>\n",
       "      <td>6</td>\n",
       "      <td>0.000000</td>\n",
       "      <td>acept</td>\n",
       "      <td>furnished</td>\n",
       "      <td>4303.326574</td>\n",
       "    </tr>\n",
       "    <tr>\n",
       "      <th>27</th>\n",
       "      <td>Belo Horizonte</td>\n",
       "      <td>64.0000</td>\n",
       "      <td>2</td>\n",
       "      <td>2</td>\n",
       "      <td>1</td>\n",
       "      <td>11.000000</td>\n",
       "      <td>acept</td>\n",
       "      <td>not furnished</td>\n",
       "      <td>1952.000000</td>\n",
       "    </tr>\n",
       "    <tr>\n",
       "      <th>28</th>\n",
       "      <td>Campinas</td>\n",
       "      <td>208.0000</td>\n",
       "      <td>3</td>\n",
       "      <td>2</td>\n",
       "      <td>4</td>\n",
       "      <td>0.000000</td>\n",
       "      <td>acept</td>\n",
       "      <td>not furnished</td>\n",
       "      <td>3328.000000</td>\n",
       "    </tr>\n",
       "    <tr>\n",
       "      <th>37</th>\n",
       "      <td>Belo Horizonte</td>\n",
       "      <td>80.0000</td>\n",
       "      <td>3</td>\n",
       "      <td>2</td>\n",
       "      <td>1</td>\n",
       "      <td>0.000000</td>\n",
       "      <td>acept</td>\n",
       "      <td>not furnished</td>\n",
       "      <td>4303.326574</td>\n",
       "    </tr>\n",
       "    <tr>\n",
       "      <th>...</th>\n",
       "      <td>...</td>\n",
       "      <td>...</td>\n",
       "      <td>...</td>\n",
       "      <td>...</td>\n",
       "      <td>...</td>\n",
       "      <td>...</td>\n",
       "      <td>...</td>\n",
       "      <td>...</td>\n",
       "      <td>...</td>\n",
       "    </tr>\n",
       "    <tr>\n",
       "      <th>10665</th>\n",
       "      <td>Belo Horizonte</td>\n",
       "      <td>55.0000</td>\n",
       "      <td>2</td>\n",
       "      <td>1</td>\n",
       "      <td>1</td>\n",
       "      <td>2.000000</td>\n",
       "      <td>not acept</td>\n",
       "      <td>furnished</td>\n",
       "      <td>1897.000000</td>\n",
       "    </tr>\n",
       "    <tr>\n",
       "      <th>10667</th>\n",
       "      <td>Belo Horizonte</td>\n",
       "      <td>75.0000</td>\n",
       "      <td>2</td>\n",
       "      <td>1</td>\n",
       "      <td>1</td>\n",
       "      <td>3.000000</td>\n",
       "      <td>not acept</td>\n",
       "      <td>not furnished</td>\n",
       "      <td>1447.000000</td>\n",
       "    </tr>\n",
       "    <tr>\n",
       "      <th>10673</th>\n",
       "      <td>Porto Alegre</td>\n",
       "      <td>220.0000</td>\n",
       "      <td>3</td>\n",
       "      <td>2</td>\n",
       "      <td>2</td>\n",
       "      <td>3.990012</td>\n",
       "      <td>acept</td>\n",
       "      <td>not furnished</td>\n",
       "      <td>3395.000000</td>\n",
       "    </tr>\n",
       "    <tr>\n",
       "      <th>10682</th>\n",
       "      <td>Porto Alegre</td>\n",
       "      <td>160.0000</td>\n",
       "      <td>3</td>\n",
       "      <td>2</td>\n",
       "      <td>3</td>\n",
       "      <td>4.000000</td>\n",
       "      <td>acept</td>\n",
       "      <td>furnished</td>\n",
       "      <td>4419.000000</td>\n",
       "    </tr>\n",
       "    <tr>\n",
       "      <th>10687</th>\n",
       "      <td>Porto Alegre</td>\n",
       "      <td>63.0000</td>\n",
       "      <td>2</td>\n",
       "      <td>1</td>\n",
       "      <td>1</td>\n",
       "      <td>5.000000</td>\n",
       "      <td>not acept</td>\n",
       "      <td>furnished</td>\n",
       "      <td>1926.000000</td>\n",
       "    </tr>\n",
       "  </tbody>\n",
       "</table>\n",
       "<p>2392 rows × 9 columns</p>\n",
       "</div>"
      ],
      "text/plain": [
       "                 city      area  rooms  bathroom  parking spaces      floor  \\\n",
       "3        Porto Alegre   51.0000      2         1               0   2.000000   \n",
       "15           Campinas  151.8977      4         6               6   0.000000   \n",
       "27     Belo Horizonte   64.0000      2         2               1  11.000000   \n",
       "28           Campinas  208.0000      3         2               4   0.000000   \n",
       "37     Belo Horizonte   80.0000      3         2               1   0.000000   \n",
       "...               ...       ...    ...       ...             ...        ...   \n",
       "10665  Belo Horizonte   55.0000      2         1               1   2.000000   \n",
       "10667  Belo Horizonte   75.0000      2         1               1   3.000000   \n",
       "10673    Porto Alegre  220.0000      3         2               2   3.990012   \n",
       "10682    Porto Alegre  160.0000      3         2               3   4.000000   \n",
       "10687    Porto Alegre   63.0000      2         1               1   5.000000   \n",
       "\n",
       "          animal      furniture   total (R$)  \n",
       "3          acept  not furnished  1421.000000  \n",
       "15         acept      furnished  4303.326574  \n",
       "27         acept  not furnished  1952.000000  \n",
       "28         acept  not furnished  3328.000000  \n",
       "37         acept  not furnished  4303.326574  \n",
       "...          ...            ...          ...  \n",
       "10665  not acept      furnished  1897.000000  \n",
       "10667  not acept  not furnished  1447.000000  \n",
       "10673      acept  not furnished  3395.000000  \n",
       "10682      acept      furnished  4419.000000  \n",
       "10687  not acept      furnished  1926.000000  \n",
       "\n",
       "[2392 rows x 9 columns]"
      ]
     },
     "execution_count": 59,
     "metadata": {},
     "output_type": "execute_result"
    }
   ],
   "source": [
    "# Filter the data according to midsized families.\n",
    "# Relocating cities\n",
    "M_df = df1[(df1['rooms'] >1) & (df1['rooms']<=4)]\n",
    "              \n",
    "M_df"
   ]
  },
  {
   "cell_type": "code",
   "execution_count": 60,
   "id": "7e8e460c",
   "metadata": {},
   "outputs": [
    {
     "data": {
      "image/png": "[encoded data removed]",
      "text/plain": [
       "<Figure size 800x700 with 1 Axes>"
      ]
     },
     "metadata": {},
     "output_type": "display_data"
    }
   ],
   "source": [
    "# Plot the graph to shows the counts for the mid sized family\n",
    "def bar_percentage(ax, count: \"number of rows in data \"):\n",
    "    for bar in ax.patches:                                           \n",
    "        percentage = f\"{round((bar.get_height() / count) *100, 2)}%\" \n",
    "                                                                            \n",
    "        x = bar.get_x() + bar.get_width() /2                          \n",
    "        y = bar.get_height()                                         \n",
    "        ax.annotate(percentage, (x, y), va = \"bottom\", ha = \"center\") \n",
    "                                                                     \n",
    "    plt.show()\n",
    "\n",
    "fig, ax = plt.subplots(figsize = (8, 7))\n",
    "sns.countplot(x = \"city\", data = M_df)\n",
    "plt.title('Mid-sized family rooms')\n",
    "\n",
    "bar_percentage(ax, len(M_df))"
   ]
  },
  {
   "cell_type": "markdown",
   "id": "accad8a7",
   "metadata": {},
   "source": [
    "### Interpretation:\n",
    "\n",
    "For mid-sized families, Belo Horizonte city has the highest range of rooms available with  41% with 2 to 4 rooms."
   ]
  },
  {
   "cell_type": "markdown",
   "id": "2a72419c",
   "metadata": {},
   "source": [
    "# Level 2: Bivariate analysis."
   ]
  },
  {
   "cell_type": "markdown",
   "id": "70037b30",
   "metadata": {},
   "source": [
    "## Relationship of Area with city"
   ]
  },
  {
   "cell_type": "code",
   "execution_count": 61,
   "id": "c283e8a9",
   "metadata": {},
   "outputs": [
    {
     "data": {
      "image/png": "[encoded data removed]",
      "text/plain": [
       "<Figure size 5000x700 with 1 Axes>"
      ]
     },
     "metadata": {},
     "output_type": "display_data"
    }
   ],
   "source": [
    "fig, ax = plt.subplots(figsize = (50, 7))\n",
    "sns.countplot(x = \"area\", hue = \"city\", data = M_df)\n",
    "plt.show()"
   ]
  },
  {
   "cell_type": "code",
   "execution_count": 62,
   "id": "9cccd19c",
   "metadata": {},
   "outputs": [
    {
     "data": {
      "image/png": "[encoded data removed]",
      "text/plain": [
       "<Figure size 1000x600 with 1 Axes>"
      ]
     },
     "metadata": {},
     "output_type": "display_data"
    }
   ],
   "source": [
    "plt.figure(figsize=(10,6))\n",
    "sns.boxplot(x='area',y='city',data=M_df)\n",
    "plt.show()"
   ]
  },
  {
   "cell_type": "markdown",
   "id": "b18b9458",
   "metadata": {},
   "source": [
    "# Interpretation:\n",
    "\n",
    "In the mid sized families,  Belo Horizonte city has the highest range of houses with area 20-250 compare to other cities.\n"
   ]
  },
  {
   "cell_type": "markdown",
   "id": "66ffd121",
   "metadata": {},
   "source": [
    "# Level 3: Multhivariate Analysis"
   ]
  },
  {
   "cell_type": "markdown",
   "id": "a5bc07af",
   "metadata": {},
   "source": [
    "### Further analysis:\n",
    "which are the cities for mid-sized family among three cities with area between 100-200 ? To consider which city has more spreaded?\n",
    " "
   ]
  },
  {
   "cell_type": "code",
   "execution_count": 63,
   "id": "f703a251",
   "metadata": {},
   "outputs": [
    {
     "data": {
      "text/plain": [
       "3894.0451987591823"
      ]
     },
     "execution_count": 63,
     "metadata": {},
     "output_type": "execute_result"
    }
   ],
   "source": [
    "# filter the total cost, area for mid sized family.\n",
    "M_df1 = M_df[(M_df['area'] >=100)&(M_df['area']<=200)]\n",
    "M_df1\n",
    "a=M_df1['total (R$)'].mean()\n",
    "a"
   ]
  },
  {
   "cell_type": "code",
   "execution_count": 64,
   "id": "1e837c60",
   "metadata": {},
   "outputs": [],
   "source": [
    "M_df1 = M_df1[M_df1['total (R$)'] <=a]"
   ]
  },
  {
   "cell_type": "code",
   "execution_count": 65,
   "id": "793ec376",
   "metadata": {
    "scrolled": false
   },
   "outputs": [
    {
     "data": {
      "image/png": "[encoded data removed]",
      "text/plain": [
       "<Figure size 1000x500 with 1 Axes>"
      ]
     },
     "metadata": {},
     "output_type": "display_data"
    }
   ],
   "source": [
    "fig, ax = plt.subplots(figsize = (10, 5))\n",
    "sns.countplot(x = \"area\", hue = \"city\", data = M_df1)\n",
    "plt.show()"
   ]
  },
  {
   "cell_type": "code",
   "execution_count": 66,
   "id": "bd8610f0",
   "metadata": {},
   "outputs": [
    {
     "data": {
      "image/png": "[encoded data removed]",
      "text/plain": [
       "<Figure size 1000x600 with 1 Axes>"
      ]
     },
     "metadata": {},
     "output_type": "display_data"
    }
   ],
   "source": [
    "plt.figure(figsize=(10,6))\n",
    "sns.boxplot(x='area',y='city',data=M_df1)\n",
    "plt.show()"
   ]
  },
  {
   "cell_type": "markdown",
   "id": "ee8a43fc",
   "metadata": {},
   "source": [
    "# Interpretation:\n",
    "Belo Horizonte and Campinas have the highest range of houses with area between 100-200, with <=4 rooms."
   ]
  },
  {
   "cell_type": "markdown",
   "id": "af679695",
   "metadata": {},
   "source": [
    "# Deeper Analysis."
   ]
  },
  {
   "cell_type": "markdown",
   "id": "af5ff62b",
   "metadata": {},
   "source": [
    "To find which city have most affordable place and more facilities like more number of bathroom,pet allowed, furnished. "
   ]
  },
  {
   "cell_type": "code",
   "execution_count": 67,
   "id": "273151b0",
   "metadata": {},
   "outputs": [
    {
     "data": {
      "text/plain": [
       "3234.595238095238"
      ]
     },
     "execution_count": 67,
     "metadata": {},
     "output_type": "execute_result"
    }
   ],
   "source": [
    "# filter the area, total cost,bathroom,pets and furniture for mid sized family.\n",
    "M_df1 = M_df1[(M_df1['bathroom']<=3)&(M_df1['animal']=='acept')&(M_df1['furniture']=='furnished')]\n",
    "M_df1\n",
    "a=M_df1['total (R$)'].mean()\n",
    "a"
   ]
  },
  {
   "cell_type": "code",
   "execution_count": 68,
   "id": "8db3f244",
   "metadata": {},
   "outputs": [],
   "source": [
    "M_df1 = M_df1[M_df1['total (R$)'] <=a]"
   ]
  },
  {
   "cell_type": "code",
   "execution_count": 69,
   "id": "9a15e781",
   "metadata": {},
   "outputs": [
    {
     "data": {
      "text/html": [
       "<div>\n",
       "<style scoped>\n",
       "    .dataframe tbody tr th:only-of-type {\n",
       "        vertical-align: middle;\n",
       "    }\n",
       "\n",
       "    .dataframe tbody tr th {\n",
       "        vertical-align: top;\n",
       "    }\n",
       "\n",
       "    .dataframe thead th {\n",
       "        text-align: right;\n",
       "    }\n",
       "</style>\n",
       "<table border=\"1\" class=\"dataframe\">\n",
       "  <thead>\n",
       "    <tr style=\"text-align: right;\">\n",
       "      <th></th>\n",
       "      <th>city</th>\n",
       "      <th>area</th>\n",
       "      <th>rooms</th>\n",
       "      <th>bathroom</th>\n",
       "      <th>parking spaces</th>\n",
       "      <th>floor</th>\n",
       "      <th>animal</th>\n",
       "      <th>furniture</th>\n",
       "      <th>total (R$)</th>\n",
       "    </tr>\n",
       "  </thead>\n",
       "  <tbody>\n",
       "    <tr>\n",
       "      <th>790</th>\n",
       "      <td>Porto Alegre</td>\n",
       "      <td>110.0</td>\n",
       "      <td>2</td>\n",
       "      <td>2</td>\n",
       "      <td>1</td>\n",
       "      <td>3.000000</td>\n",
       "      <td>acept</td>\n",
       "      <td>furnished</td>\n",
       "      <td>2579.0</td>\n",
       "    </tr>\n",
       "    <tr>\n",
       "      <th>1185</th>\n",
       "      <td>Campinas</td>\n",
       "      <td>151.0</td>\n",
       "      <td>2</td>\n",
       "      <td>2</td>\n",
       "      <td>1</td>\n",
       "      <td>8.000000</td>\n",
       "      <td>acept</td>\n",
       "      <td>furnished</td>\n",
       "      <td>3188.0</td>\n",
       "    </tr>\n",
       "    <tr>\n",
       "      <th>1768</th>\n",
       "      <td>Belo Horizonte</td>\n",
       "      <td>148.0</td>\n",
       "      <td>3</td>\n",
       "      <td>3</td>\n",
       "      <td>2</td>\n",
       "      <td>3.000000</td>\n",
       "      <td>acept</td>\n",
       "      <td>furnished</td>\n",
       "      <td>2922.0</td>\n",
       "    </tr>\n",
       "    <tr>\n",
       "      <th>2202</th>\n",
       "      <td>Porto Alegre</td>\n",
       "      <td>108.0</td>\n",
       "      <td>3</td>\n",
       "      <td>2</td>\n",
       "      <td>1</td>\n",
       "      <td>3.000000</td>\n",
       "      <td>acept</td>\n",
       "      <td>furnished</td>\n",
       "      <td>2945.0</td>\n",
       "    </tr>\n",
       "    <tr>\n",
       "      <th>2995</th>\n",
       "      <td>Porto Alegre</td>\n",
       "      <td>100.0</td>\n",
       "      <td>3</td>\n",
       "      <td>1</td>\n",
       "      <td>0</td>\n",
       "      <td>3.000000</td>\n",
       "      <td>acept</td>\n",
       "      <td>furnished</td>\n",
       "      <td>2207.0</td>\n",
       "    </tr>\n",
       "    <tr>\n",
       "      <th>3399</th>\n",
       "      <td>Porto Alegre</td>\n",
       "      <td>187.0</td>\n",
       "      <td>3</td>\n",
       "      <td>3</td>\n",
       "      <td>2</td>\n",
       "      <td>0.000000</td>\n",
       "      <td>acept</td>\n",
       "      <td>furnished</td>\n",
       "      <td>2953.0</td>\n",
       "    </tr>\n",
       "    <tr>\n",
       "      <th>3458</th>\n",
       "      <td>Porto Alegre</td>\n",
       "      <td>120.0</td>\n",
       "      <td>2</td>\n",
       "      <td>2</td>\n",
       "      <td>1</td>\n",
       "      <td>3.000000</td>\n",
       "      <td>acept</td>\n",
       "      <td>furnished</td>\n",
       "      <td>2997.0</td>\n",
       "    </tr>\n",
       "    <tr>\n",
       "      <th>4010</th>\n",
       "      <td>Porto Alegre</td>\n",
       "      <td>129.0</td>\n",
       "      <td>2</td>\n",
       "      <td>3</td>\n",
       "      <td>1</td>\n",
       "      <td>5.000000</td>\n",
       "      <td>acept</td>\n",
       "      <td>furnished</td>\n",
       "      <td>2915.0</td>\n",
       "    </tr>\n",
       "    <tr>\n",
       "      <th>4215</th>\n",
       "      <td>Porto Alegre</td>\n",
       "      <td>110.0</td>\n",
       "      <td>3</td>\n",
       "      <td>2</td>\n",
       "      <td>0</td>\n",
       "      <td>3.000000</td>\n",
       "      <td>acept</td>\n",
       "      <td>furnished</td>\n",
       "      <td>2793.0</td>\n",
       "    </tr>\n",
       "    <tr>\n",
       "      <th>4860</th>\n",
       "      <td>Porto Alegre</td>\n",
       "      <td>100.0</td>\n",
       "      <td>2</td>\n",
       "      <td>3</td>\n",
       "      <td>2</td>\n",
       "      <td>3.000000</td>\n",
       "      <td>acept</td>\n",
       "      <td>furnished</td>\n",
       "      <td>3088.0</td>\n",
       "    </tr>\n",
       "    <tr>\n",
       "      <th>5814</th>\n",
       "      <td>Belo Horizonte</td>\n",
       "      <td>120.0</td>\n",
       "      <td>3</td>\n",
       "      <td>3</td>\n",
       "      <td>1</td>\n",
       "      <td>3.000000</td>\n",
       "      <td>acept</td>\n",
       "      <td>furnished</td>\n",
       "      <td>2834.0</td>\n",
       "    </tr>\n",
       "    <tr>\n",
       "      <th>5873</th>\n",
       "      <td>Porto Alegre</td>\n",
       "      <td>101.0</td>\n",
       "      <td>3</td>\n",
       "      <td>2</td>\n",
       "      <td>0</td>\n",
       "      <td>3.000000</td>\n",
       "      <td>acept</td>\n",
       "      <td>furnished</td>\n",
       "      <td>2486.0</td>\n",
       "    </tr>\n",
       "    <tr>\n",
       "      <th>6250</th>\n",
       "      <td>Porto Alegre</td>\n",
       "      <td>170.0</td>\n",
       "      <td>3</td>\n",
       "      <td>2</td>\n",
       "      <td>0</td>\n",
       "      <td>3.000000</td>\n",
       "      <td>acept</td>\n",
       "      <td>furnished</td>\n",
       "      <td>2930.0</td>\n",
       "    </tr>\n",
       "    <tr>\n",
       "      <th>6536</th>\n",
       "      <td>Campinas</td>\n",
       "      <td>100.0</td>\n",
       "      <td>3</td>\n",
       "      <td>2</td>\n",
       "      <td>2</td>\n",
       "      <td>1.000000</td>\n",
       "      <td>acept</td>\n",
       "      <td>furnished</td>\n",
       "      <td>3033.0</td>\n",
       "    </tr>\n",
       "    <tr>\n",
       "      <th>7005</th>\n",
       "      <td>Belo Horizonte</td>\n",
       "      <td>100.0</td>\n",
       "      <td>3</td>\n",
       "      <td>2</td>\n",
       "      <td>1</td>\n",
       "      <td>0.000000</td>\n",
       "      <td>acept</td>\n",
       "      <td>furnished</td>\n",
       "      <td>2207.0</td>\n",
       "    </tr>\n",
       "    <tr>\n",
       "      <th>7296</th>\n",
       "      <td>Belo Horizonte</td>\n",
       "      <td>110.0</td>\n",
       "      <td>3</td>\n",
       "      <td>3</td>\n",
       "      <td>2</td>\n",
       "      <td>3.000000</td>\n",
       "      <td>acept</td>\n",
       "      <td>furnished</td>\n",
       "      <td>2800.0</td>\n",
       "    </tr>\n",
       "    <tr>\n",
       "      <th>8751</th>\n",
       "      <td>Belo Horizonte</td>\n",
       "      <td>192.0</td>\n",
       "      <td>4</td>\n",
       "      <td>3</td>\n",
       "      <td>3</td>\n",
       "      <td>2.000000</td>\n",
       "      <td>acept</td>\n",
       "      <td>furnished</td>\n",
       "      <td>3040.0</td>\n",
       "    </tr>\n",
       "    <tr>\n",
       "      <th>8924</th>\n",
       "      <td>Belo Horizonte</td>\n",
       "      <td>107.0</td>\n",
       "      <td>3</td>\n",
       "      <td>2</td>\n",
       "      <td>2</td>\n",
       "      <td>2.000000</td>\n",
       "      <td>acept</td>\n",
       "      <td>furnished</td>\n",
       "      <td>3201.0</td>\n",
       "    </tr>\n",
       "    <tr>\n",
       "      <th>9604</th>\n",
       "      <td>Porto Alegre</td>\n",
       "      <td>103.0</td>\n",
       "      <td>3</td>\n",
       "      <td>1</td>\n",
       "      <td>3</td>\n",
       "      <td>0.000000</td>\n",
       "      <td>acept</td>\n",
       "      <td>furnished</td>\n",
       "      <td>2910.0</td>\n",
       "    </tr>\n",
       "    <tr>\n",
       "      <th>10502</th>\n",
       "      <td>Belo Horizonte</td>\n",
       "      <td>127.0</td>\n",
       "      <td>2</td>\n",
       "      <td>2</td>\n",
       "      <td>0</td>\n",
       "      <td>3.990012</td>\n",
       "      <td>acept</td>\n",
       "      <td>furnished</td>\n",
       "      <td>2889.0</td>\n",
       "    </tr>\n",
       "  </tbody>\n",
       "</table>\n",
       "</div>"
      ],
      "text/plain": [
       "                 city   area  rooms  bathroom  parking spaces     floor  \\\n",
       "790      Porto Alegre  110.0      2         2               1  3.000000   \n",
       "1185         Campinas  151.0      2         2               1  8.000000   \n",
       "1768   Belo Horizonte  148.0      3         3               2  3.000000   \n",
       "2202     Porto Alegre  108.0      3         2               1  3.000000   \n",
       "2995     Porto Alegre  100.0      3         1               0  3.000000   \n",
       "3399     Porto Alegre  187.0      3         3               2  0.000000   \n",
       "3458     Porto Alegre  120.0      2         2               1  3.000000   \n",
       "4010     Porto Alegre  129.0      2         3               1  5.000000   \n",
       "4215     Porto Alegre  110.0      3         2               0  3.000000   \n",
       "4860     Porto Alegre  100.0      2         3               2  3.000000   \n",
       "5814   Belo Horizonte  120.0      3         3               1  3.000000   \n",
       "5873     Porto Alegre  101.0      3         2               0  3.000000   \n",
       "6250     Porto Alegre  170.0      3         2               0  3.000000   \n",
       "6536         Campinas  100.0      3         2               2  1.000000   \n",
       "7005   Belo Horizonte  100.0      3         2               1  0.000000   \n",
       "7296   Belo Horizonte  110.0      3         3               2  3.000000   \n",
       "8751   Belo Horizonte  192.0      4         3               3  2.000000   \n",
       "8924   Belo Horizonte  107.0      3         2               2  2.000000   \n",
       "9604     Porto Alegre  103.0      3         1               3  0.000000   \n",
       "10502  Belo Horizonte  127.0      2         2               0  3.990012   \n",
       "\n",
       "      animal  furniture  total (R$)  \n",
       "790    acept  furnished      2579.0  \n",
       "1185   acept  furnished      3188.0  \n",
       "1768   acept  furnished      2922.0  \n",
       "2202   acept  furnished      2945.0  \n",
       "2995   acept  furnished      2207.0  \n",
       "3399   acept  furnished      2953.0  \n",
       "3458   acept  furnished      2997.0  \n",
       "4010   acept  furnished      2915.0  \n",
       "4215   acept  furnished      2793.0  \n",
       "4860   acept  furnished      3088.0  \n",
       "5814   acept  furnished      2834.0  \n",
       "5873   acept  furnished      2486.0  \n",
       "6250   acept  furnished      2930.0  \n",
       "6536   acept  furnished      3033.0  \n",
       "7005   acept  furnished      2207.0  \n",
       "7296   acept  furnished      2800.0  \n",
       "8751   acept  furnished      3040.0  \n",
       "8924   acept  furnished      3201.0  \n",
       "9604   acept  furnished      2910.0  \n",
       "10502  acept  furnished      2889.0  "
      ]
     },
     "execution_count": 69,
     "metadata": {},
     "output_type": "execute_result"
    }
   ],
   "source": [
    "M_df1"
   ]
  },
  {
   "cell_type": "code",
   "execution_count": 70,
   "id": "230008b0",
   "metadata": {
    "scrolled": false
   },
   "outputs": [
    {
     "data": {
      "image/png": "[encoded data removed]",
      "text/plain": [
       "<Figure size 2000x700 with 1 Axes>"
      ]
     },
     "metadata": {},
     "output_type": "display_data"
    }
   ],
   "source": [
    "fig, ax = plt.subplots(figsize = (20, 7))\n",
    "sns.countplot(x = \"area\", hue = \"city\", data = M_df1)\n",
    "plt.show()"
   ]
  },
  {
   "cell_type": "code",
   "execution_count": 71,
   "id": "0137e159",
   "metadata": {},
   "outputs": [
    {
     "data": {
      "image/png": "[encoded data removed]",
      "text/plain": [
       "<Figure size 1000x600 with 1 Axes>"
      ]
     },
     "metadata": {},
     "output_type": "display_data"
    }
   ],
   "source": [
    "plt.figure(figsize=(10,6))\n",
    "sns.boxplot(x='area',y='city',data=M_df1)\n",
    "plt.show()"
   ]
  },
  {
   "cell_type": "markdown",
   "id": "9c979758",
   "metadata": {},
   "source": [
    "# Interpretation:\n",
    "        Belo Horizonte and Porto Alegre  have highest range of houses with area between 100-200, with <=4 rooms and with more facilities in low rent.\n",
    "        As per the analysis Belo Horizonte and Porto Alegre are the most affordable city for mid-sized family."
   ]
  },
  {
   "cell_type": "markdown",
   "id": "e6eba114",
   "metadata": {},
   "source": [
    "# Level 1: Univariate Analysis for  Large Family to relocate."
   ]
  },
  {
   "cell_type": "raw",
   "id": "7199a41c",
   "metadata": {},
   "source": [
    "1.Filter the data according to the Large family requirements by rooms.\n",
    "2.Visualize the distribution to understand with suitable graph."
   ]
  },
  {
   "cell_type": "code",
   "execution_count": 72,
   "id": "477e521b",
   "metadata": {},
   "outputs": [
    {
     "data": {
      "text/html": [
       "<div>\n",
       "<style scoped>\n",
       "    .dataframe tbody tr th:only-of-type {\n",
       "        vertical-align: middle;\n",
       "    }\n",
       "\n",
       "    .dataframe tbody tr th {\n",
       "        vertical-align: top;\n",
       "    }\n",
       "\n",
       "    .dataframe thead th {\n",
       "        text-align: right;\n",
       "    }\n",
       "</style>\n",
       "<table border=\"1\" class=\"dataframe\">\n",
       "  <thead>\n",
       "    <tr style=\"text-align: right;\">\n",
       "      <th></th>\n",
       "      <th>city</th>\n",
       "      <th>area</th>\n",
       "      <th>rooms</th>\n",
       "      <th>bathroom</th>\n",
       "      <th>parking spaces</th>\n",
       "      <th>floor</th>\n",
       "      <th>animal</th>\n",
       "      <th>furniture</th>\n",
       "      <th>total (R$)</th>\n",
       "    </tr>\n",
       "  </thead>\n",
       "  <tbody>\n",
       "    <tr>\n",
       "      <th>15</th>\n",
       "      <td>Campinas</td>\n",
       "      <td>151.8977</td>\n",
       "      <td>4</td>\n",
       "      <td>6</td>\n",
       "      <td>6</td>\n",
       "      <td>0.000000</td>\n",
       "      <td>acept</td>\n",
       "      <td>furnished</td>\n",
       "      <td>4303.326574</td>\n",
       "    </tr>\n",
       "    <tr>\n",
       "      <th>42</th>\n",
       "      <td>Belo Horizonte</td>\n",
       "      <td>200.0000</td>\n",
       "      <td>4</td>\n",
       "      <td>2</td>\n",
       "      <td>1</td>\n",
       "      <td>7.000000</td>\n",
       "      <td>not acept</td>\n",
       "      <td>not furnished</td>\n",
       "      <td>3443.000000</td>\n",
       "    </tr>\n",
       "    <tr>\n",
       "      <th>65</th>\n",
       "      <td>Campinas</td>\n",
       "      <td>300.0000</td>\n",
       "      <td>4</td>\n",
       "      <td>4</td>\n",
       "      <td>3</td>\n",
       "      <td>2.000000</td>\n",
       "      <td>acept</td>\n",
       "      <td>not furnished</td>\n",
       "      <td>4303.326574</td>\n",
       "    </tr>\n",
       "    <tr>\n",
       "      <th>70</th>\n",
       "      <td>Belo Horizonte</td>\n",
       "      <td>220.0000</td>\n",
       "      <td>4</td>\n",
       "      <td>2</td>\n",
       "      <td>3</td>\n",
       "      <td>3.000000</td>\n",
       "      <td>acept</td>\n",
       "      <td>not furnished</td>\n",
       "      <td>3030.000000</td>\n",
       "    </tr>\n",
       "    <tr>\n",
       "      <th>77</th>\n",
       "      <td>Belo Horizonte</td>\n",
       "      <td>170.0000</td>\n",
       "      <td>4</td>\n",
       "      <td>3</td>\n",
       "      <td>4</td>\n",
       "      <td>9.000000</td>\n",
       "      <td>not acept</td>\n",
       "      <td>not furnished</td>\n",
       "      <td>3776.000000</td>\n",
       "    </tr>\n",
       "    <tr>\n",
       "      <th>...</th>\n",
       "      <td>...</td>\n",
       "      <td>...</td>\n",
       "      <td>...</td>\n",
       "      <td>...</td>\n",
       "      <td>...</td>\n",
       "      <td>...</td>\n",
       "      <td>...</td>\n",
       "      <td>...</td>\n",
       "      <td>...</td>\n",
       "    </tr>\n",
       "    <tr>\n",
       "      <th>10587</th>\n",
       "      <td>Belo Horizonte</td>\n",
       "      <td>151.8977</td>\n",
       "      <td>8</td>\n",
       "      <td>5</td>\n",
       "      <td>8</td>\n",
       "      <td>0.000000</td>\n",
       "      <td>acept</td>\n",
       "      <td>not furnished</td>\n",
       "      <td>5232.000000</td>\n",
       "    </tr>\n",
       "    <tr>\n",
       "      <th>10590</th>\n",
       "      <td>Belo Horizonte</td>\n",
       "      <td>151.8977</td>\n",
       "      <td>5</td>\n",
       "      <td>2</td>\n",
       "      <td>7</td>\n",
       "      <td>0.000000</td>\n",
       "      <td>acept</td>\n",
       "      <td>furnished</td>\n",
       "      <td>4303.326574</td>\n",
       "    </tr>\n",
       "    <tr>\n",
       "      <th>10599</th>\n",
       "      <td>Belo Horizonte</td>\n",
       "      <td>180.0000</td>\n",
       "      <td>6</td>\n",
       "      <td>4</td>\n",
       "      <td>6</td>\n",
       "      <td>0.000000</td>\n",
       "      <td>acept</td>\n",
       "      <td>not furnished</td>\n",
       "      <td>5800.000000</td>\n",
       "    </tr>\n",
       "    <tr>\n",
       "      <th>10611</th>\n",
       "      <td>Campinas</td>\n",
       "      <td>151.8977</td>\n",
       "      <td>4</td>\n",
       "      <td>5</td>\n",
       "      <td>4</td>\n",
       "      <td>0.000000</td>\n",
       "      <td>acept</td>\n",
       "      <td>not furnished</td>\n",
       "      <td>6250.000000</td>\n",
       "    </tr>\n",
       "    <tr>\n",
       "      <th>10645</th>\n",
       "      <td>Porto Alegre</td>\n",
       "      <td>151.8977</td>\n",
       "      <td>4</td>\n",
       "      <td>2</td>\n",
       "      <td>2</td>\n",
       "      <td>3.990012</td>\n",
       "      <td>acept</td>\n",
       "      <td>furnished</td>\n",
       "      <td>4303.326574</td>\n",
       "    </tr>\n",
       "  </tbody>\n",
       "</table>\n",
       "<p>640 rows × 9 columns</p>\n",
       "</div>"
      ],
      "text/plain": [
       "                 city      area  rooms  bathroom  parking spaces     floor  \\\n",
       "15           Campinas  151.8977      4         6               6  0.000000   \n",
       "42     Belo Horizonte  200.0000      4         2               1  7.000000   \n",
       "65           Campinas  300.0000      4         4               3  2.000000   \n",
       "70     Belo Horizonte  220.0000      4         2               3  3.000000   \n",
       "77     Belo Horizonte  170.0000      4         3               4  9.000000   \n",
       "...               ...       ...    ...       ...             ...       ...   \n",
       "10587  Belo Horizonte  151.8977      8         5               8  0.000000   \n",
       "10590  Belo Horizonte  151.8977      5         2               7  0.000000   \n",
       "10599  Belo Horizonte  180.0000      6         4               6  0.000000   \n",
       "10611        Campinas  151.8977      4         5               4  0.000000   \n",
       "10645    Porto Alegre  151.8977      4         2               2  3.990012   \n",
       "\n",
       "          animal      furniture   total (R$)  \n",
       "15         acept      furnished  4303.326574  \n",
       "42     not acept  not furnished  3443.000000  \n",
       "65         acept  not furnished  4303.326574  \n",
       "70         acept  not furnished  3030.000000  \n",
       "77     not acept  not furnished  3776.000000  \n",
       "...          ...            ...          ...  \n",
       "10587      acept  not furnished  5232.000000  \n",
       "10590      acept      furnished  4303.326574  \n",
       "10599      acept  not furnished  5800.000000  \n",
       "10611      acept  not furnished  6250.000000  \n",
       "10645      acept      furnished  4303.326574  \n",
       "\n",
       "[640 rows x 9 columns]"
      ]
     },
     "execution_count": 72,
     "metadata": {},
     "output_type": "execute_result"
    }
   ],
   "source": [
    "# Filter the data according to Large families.\n",
    "\n",
    "L_df = df1[(df1['rooms'] >=4)]\n",
    "              \n",
    "L_df"
   ]
  },
  {
   "cell_type": "code",
   "execution_count": 73,
   "id": "b25844d9",
   "metadata": {},
   "outputs": [
    {
     "data": {
      "image/png": "[encoded data removed]",
      "text/plain": [
       "<Figure size 800x500 with 1 Axes>"
      ]
     },
     "metadata": {},
     "output_type": "display_data"
    }
   ],
   "source": [
    "\n",
    "fig, ax = plt.subplots(figsize = (8, 5))\n",
    "sns.countplot(x = \"city\", data = L_df)\n",
    "plt.title('Large family rooms')\n",
    "\n",
    "bar_percentage(ax, len(L_df))"
   ]
  },
  {
   "cell_type": "markdown",
   "id": "8d923252",
   "metadata": {},
   "source": [
    "# Interpretation:\n",
    "For Large families, Belo Horizonte city has the highest range of rooms available with 68% with >=4 rooms."
   ]
  },
  {
   "cell_type": "markdown",
   "id": "152da400",
   "metadata": {},
   "source": [
    "# Level 2: Bivariate analysis"
   ]
  },
  {
   "cell_type": "markdown",
   "id": "c612c547",
   "metadata": {},
   "source": [
    "## Relationship of Area with city"
   ]
  },
  {
   "cell_type": "code",
   "execution_count": 82,
   "id": "9061c2b1",
   "metadata": {},
   "outputs": [
    {
     "data": {
      "image/png": "[encoded data removed]",
      "text/plain": [
       "<Figure size 4000x700 with 1 Axes>"
      ]
     },
     "metadata": {},
     "output_type": "display_data"
    }
   ],
   "source": [
    "fig, ax = plt.subplots(figsize = (40, 7))\n",
    "sns.countplot(x = \"area\", hue = \"city\", data = L_df)\n",
    "plt.show()"
   ]
  },
  {
   "cell_type": "code",
   "execution_count": 83,
   "id": "e123c3d7",
   "metadata": {},
   "outputs": [
    {
     "data": {
      "image/png": "[encoded data removed]",
      "text/plain": [
       "<Figure size 1000x600 with 1 Axes>"
      ]
     },
     "metadata": {},
     "output_type": "display_data"
    }
   ],
   "source": [
    "plt.figure(figsize=(10,6))\n",
    "sns.boxplot(x='area',y='city',data=L_df)\n",
    "plt.show()"
   ]
  },
  {
   "cell_type": "markdown",
   "id": "0eb088cd",
   "metadata": {},
   "source": [
    "# Interpretation:\n",
    "For large families, Belo Horizonte city has the wide range of houses with area between 70-320 compare to other cities ."
   ]
  },
  {
   "cell_type": "markdown",
   "id": "b1d5f836",
   "metadata": {},
   "source": [
    "# Level 3: Multivariate Analysis"
   ]
  },
  {
   "cell_type": "markdown",
   "id": "22a2eccd",
   "metadata": {},
   "source": [
    "### Further analysis:\n",
    "which area is best for Large family among three cities with otherfacilities ? To consider which area has more spreaded?\n",
    "We have to do analyse deeper in the area > 200 range"
   ]
  },
  {
   "cell_type": "code",
   "execution_count": 76,
   "id": "1a332252",
   "metadata": {
    "scrolled": true
   },
   "outputs": [
    {
     "data": {
      "text/html": [
       "<div>\n",
       "<style scoped>\n",
       "    .dataframe tbody tr th:only-of-type {\n",
       "        vertical-align: middle;\n",
       "    }\n",
       "\n",
       "    .dataframe tbody tr th {\n",
       "        vertical-align: top;\n",
       "    }\n",
       "\n",
       "    .dataframe thead th {\n",
       "        text-align: right;\n",
       "    }\n",
       "</style>\n",
       "<table border=\"1\" class=\"dataframe\">\n",
       "  <thead>\n",
       "    <tr style=\"text-align: right;\">\n",
       "      <th></th>\n",
       "      <th>city</th>\n",
       "      <th>area</th>\n",
       "      <th>rooms</th>\n",
       "      <th>bathroom</th>\n",
       "      <th>parking spaces</th>\n",
       "      <th>floor</th>\n",
       "      <th>animal</th>\n",
       "      <th>furniture</th>\n",
       "      <th>total (R$)</th>\n",
       "    </tr>\n",
       "  </thead>\n",
       "  <tbody>\n",
       "    <tr>\n",
       "      <th>65</th>\n",
       "      <td>Campinas</td>\n",
       "      <td>300.0</td>\n",
       "      <td>4</td>\n",
       "      <td>4</td>\n",
       "      <td>3</td>\n",
       "      <td>2.000000</td>\n",
       "      <td>acept</td>\n",
       "      <td>not furnished</td>\n",
       "      <td>4303.326574</td>\n",
       "    </tr>\n",
       "    <tr>\n",
       "      <th>70</th>\n",
       "      <td>Belo Horizonte</td>\n",
       "      <td>220.0</td>\n",
       "      <td>4</td>\n",
       "      <td>2</td>\n",
       "      <td>3</td>\n",
       "      <td>3.000000</td>\n",
       "      <td>acept</td>\n",
       "      <td>not furnished</td>\n",
       "      <td>3030.000000</td>\n",
       "    </tr>\n",
       "    <tr>\n",
       "      <th>93</th>\n",
       "      <td>Belo Horizonte</td>\n",
       "      <td>296.0</td>\n",
       "      <td>4</td>\n",
       "      <td>3</td>\n",
       "      <td>2</td>\n",
       "      <td>0.000000</td>\n",
       "      <td>acept</td>\n",
       "      <td>not furnished</td>\n",
       "      <td>4303.326574</td>\n",
       "    </tr>\n",
       "    <tr>\n",
       "      <th>107</th>\n",
       "      <td>Campinas</td>\n",
       "      <td>284.0</td>\n",
       "      <td>4</td>\n",
       "      <td>3</td>\n",
       "      <td>3</td>\n",
       "      <td>4.000000</td>\n",
       "      <td>acept</td>\n",
       "      <td>not furnished</td>\n",
       "      <td>4303.326574</td>\n",
       "    </tr>\n",
       "    <tr>\n",
       "      <th>223</th>\n",
       "      <td>Belo Horizonte</td>\n",
       "      <td>225.0</td>\n",
       "      <td>4</td>\n",
       "      <td>3</td>\n",
       "      <td>0</td>\n",
       "      <td>8.000000</td>\n",
       "      <td>acept</td>\n",
       "      <td>not furnished</td>\n",
       "      <td>4303.326574</td>\n",
       "    </tr>\n",
       "    <tr>\n",
       "      <th>...</th>\n",
       "      <td>...</td>\n",
       "      <td>...</td>\n",
       "      <td>...</td>\n",
       "      <td>...</td>\n",
       "      <td>...</td>\n",
       "      <td>...</td>\n",
       "      <td>...</td>\n",
       "      <td>...</td>\n",
       "      <td>...</td>\n",
       "    </tr>\n",
       "    <tr>\n",
       "      <th>10326</th>\n",
       "      <td>Campinas</td>\n",
       "      <td>290.0</td>\n",
       "      <td>4</td>\n",
       "      <td>3</td>\n",
       "      <td>1</td>\n",
       "      <td>5.000000</td>\n",
       "      <td>acept</td>\n",
       "      <td>not furnished</td>\n",
       "      <td>4175.000000</td>\n",
       "    </tr>\n",
       "    <tr>\n",
       "      <th>10342</th>\n",
       "      <td>Belo Horizonte</td>\n",
       "      <td>300.0</td>\n",
       "      <td>4</td>\n",
       "      <td>4</td>\n",
       "      <td>4</td>\n",
       "      <td>3.990012</td>\n",
       "      <td>acept</td>\n",
       "      <td>furnished</td>\n",
       "      <td>4303.326574</td>\n",
       "    </tr>\n",
       "    <tr>\n",
       "      <th>10418</th>\n",
       "      <td>Belo Horizonte</td>\n",
       "      <td>220.0</td>\n",
       "      <td>4</td>\n",
       "      <td>4</td>\n",
       "      <td>0</td>\n",
       "      <td>13.000000</td>\n",
       "      <td>not acept</td>\n",
       "      <td>not furnished</td>\n",
       "      <td>4303.326574</td>\n",
       "    </tr>\n",
       "    <tr>\n",
       "      <th>10520</th>\n",
       "      <td>Campinas</td>\n",
       "      <td>250.0</td>\n",
       "      <td>4</td>\n",
       "      <td>4</td>\n",
       "      <td>0</td>\n",
       "      <td>0.000000</td>\n",
       "      <td>acept</td>\n",
       "      <td>not furnished</td>\n",
       "      <td>5002.000000</td>\n",
       "    </tr>\n",
       "    <tr>\n",
       "      <th>10563</th>\n",
       "      <td>Belo Horizonte</td>\n",
       "      <td>274.0</td>\n",
       "      <td>4</td>\n",
       "      <td>5</td>\n",
       "      <td>5</td>\n",
       "      <td>10.000000</td>\n",
       "      <td>not acept</td>\n",
       "      <td>not furnished</td>\n",
       "      <td>4303.326574</td>\n",
       "    </tr>\n",
       "  </tbody>\n",
       "</table>\n",
       "<p>193 rows × 9 columns</p>\n",
       "</div>"
      ],
      "text/plain": [
       "                 city   area  rooms  bathroom  parking spaces      floor  \\\n",
       "65           Campinas  300.0      4         4               3   2.000000   \n",
       "70     Belo Horizonte  220.0      4         2               3   3.000000   \n",
       "93     Belo Horizonte  296.0      4         3               2   0.000000   \n",
       "107          Campinas  284.0      4         3               3   4.000000   \n",
       "223    Belo Horizonte  225.0      4         3               0   8.000000   \n",
       "...               ...    ...    ...       ...             ...        ...   \n",
       "10326        Campinas  290.0      4         3               1   5.000000   \n",
       "10342  Belo Horizonte  300.0      4         4               4   3.990012   \n",
       "10418  Belo Horizonte  220.0      4         4               0  13.000000   \n",
       "10520        Campinas  250.0      4         4               0   0.000000   \n",
       "10563  Belo Horizonte  274.0      4         5               5  10.000000   \n",
       "\n",
       "          animal      furniture   total (R$)  \n",
       "65         acept  not furnished  4303.326574  \n",
       "70         acept  not furnished  3030.000000  \n",
       "93         acept  not furnished  4303.326574  \n",
       "107        acept  not furnished  4303.326574  \n",
       "223        acept  not furnished  4303.326574  \n",
       "...          ...            ...          ...  \n",
       "10326      acept  not furnished  4175.000000  \n",
       "10342      acept      furnished  4303.326574  \n",
       "10418  not acept  not furnished  4303.326574  \n",
       "10520      acept  not furnished  5002.000000  \n",
       "10563  not acept  not furnished  4303.326574  \n",
       "\n",
       "[193 rows x 9 columns]"
      ]
     },
     "execution_count": 76,
     "metadata": {},
     "output_type": "execute_result"
    }
   ],
   "source": [
    "L_df1 = L_df[(L_df['area'] >200)]\n",
    "L_df1\n"
   ]
  },
  {
   "cell_type": "code",
   "execution_count": 77,
   "id": "0e380887",
   "metadata": {},
   "outputs": [
    {
     "data": {
      "image/png": "[encoded data removed]",
      "text/plain": [
       "<Figure size 2000x700 with 1 Axes>"
      ]
     },
     "metadata": {},
     "output_type": "display_data"
    }
   ],
   "source": [
    "fig, ax = plt.subplots(figsize = (20, 7))\n",
    "sns.countplot(x = \"area\", hue = \"city\", data = L_df1)\n",
    "plt.show()"
   ]
  },
  {
   "cell_type": "code",
   "execution_count": 78,
   "id": "5fbdfcd9",
   "metadata": {
    "scrolled": false
   },
   "outputs": [
    {
     "data": {
      "image/png": "[encoded data removed]",
      "text/plain": [
       "<Figure size 1000x600 with 1 Axes>"
      ]
     },
     "metadata": {},
     "output_type": "display_data"
    }
   ],
   "source": [
    "plt.figure(figsize=(10,6))\n",
    "sns.boxplot(x='area',y='city',data=L_df1)\n",
    "plt.show()"
   ]
  },
  {
   "cell_type": "markdown",
   "id": "cb97aac4",
   "metadata": {},
   "source": [
    "# Interpretation:\n",
    "Belo Horizonte has the highest range of houses with area between >200, with >=3 rooms."
   ]
  },
  {
   "cell_type": "markdown",
   "id": "0d620506",
   "metadata": {},
   "source": [
    "# Deeper Analysis"
   ]
  },
  {
   "cell_type": "markdown",
   "id": "e106db7d",
   "metadata": {},
   "source": [
    " To find which city have most affordable place and more facilities like more number of bathrooms,pets allowed,parking space of more vehicles and furnished.  "
   ]
  },
  {
   "cell_type": "code",
   "execution_count": 79,
   "id": "2eda28fc",
   "metadata": {
    "scrolled": false
   },
   "outputs": [
    {
     "data": {
      "text/html": [
       "<div>\n",
       "<style scoped>\n",
       "    .dataframe tbody tr th:only-of-type {\n",
       "        vertical-align: middle;\n",
       "    }\n",
       "\n",
       "    .dataframe tbody tr th {\n",
       "        vertical-align: top;\n",
       "    }\n",
       "\n",
       "    .dataframe thead th {\n",
       "        text-align: right;\n",
       "    }\n",
       "</style>\n",
       "<table border=\"1\" class=\"dataframe\">\n",
       "  <thead>\n",
       "    <tr style=\"text-align: right;\">\n",
       "      <th></th>\n",
       "      <th>city</th>\n",
       "      <th>area</th>\n",
       "      <th>rooms</th>\n",
       "      <th>bathroom</th>\n",
       "      <th>parking spaces</th>\n",
       "      <th>floor</th>\n",
       "      <th>animal</th>\n",
       "      <th>furniture</th>\n",
       "      <th>total (R$)</th>\n",
       "    </tr>\n",
       "  </thead>\n",
       "  <tbody>\n",
       "    <tr>\n",
       "      <th>807</th>\n",
       "      <td>Belo Horizonte</td>\n",
       "      <td>298.0</td>\n",
       "      <td>4</td>\n",
       "      <td>3</td>\n",
       "      <td>2</td>\n",
       "      <td>3.000000</td>\n",
       "      <td>acept</td>\n",
       "      <td>furnished</td>\n",
       "      <td>3164.000000</td>\n",
       "    </tr>\n",
       "    <tr>\n",
       "      <th>1074</th>\n",
       "      <td>Belo Horizonte</td>\n",
       "      <td>280.0</td>\n",
       "      <td>4</td>\n",
       "      <td>4</td>\n",
       "      <td>3</td>\n",
       "      <td>8.000000</td>\n",
       "      <td>acept</td>\n",
       "      <td>furnished</td>\n",
       "      <td>4303.326574</td>\n",
       "    </tr>\n",
       "    <tr>\n",
       "      <th>1719</th>\n",
       "      <td>Belo Horizonte</td>\n",
       "      <td>230.0</td>\n",
       "      <td>4</td>\n",
       "      <td>3</td>\n",
       "      <td>4</td>\n",
       "      <td>7.000000</td>\n",
       "      <td>acept</td>\n",
       "      <td>furnished</td>\n",
       "      <td>4303.326574</td>\n",
       "    </tr>\n",
       "    <tr>\n",
       "      <th>1904</th>\n",
       "      <td>Belo Horizonte</td>\n",
       "      <td>308.0</td>\n",
       "      <td>4</td>\n",
       "      <td>5</td>\n",
       "      <td>6</td>\n",
       "      <td>3.990012</td>\n",
       "      <td>acept</td>\n",
       "      <td>furnished</td>\n",
       "      <td>4303.326574</td>\n",
       "    </tr>\n",
       "    <tr>\n",
       "      <th>2966</th>\n",
       "      <td>Porto Alegre</td>\n",
       "      <td>281.0</td>\n",
       "      <td>4</td>\n",
       "      <td>3</td>\n",
       "      <td>4</td>\n",
       "      <td>0.000000</td>\n",
       "      <td>acept</td>\n",
       "      <td>furnished</td>\n",
       "      <td>5480.000000</td>\n",
       "    </tr>\n",
       "    <tr>\n",
       "      <th>3548</th>\n",
       "      <td>Campinas</td>\n",
       "      <td>260.0</td>\n",
       "      <td>4</td>\n",
       "      <td>3</td>\n",
       "      <td>4</td>\n",
       "      <td>0.000000</td>\n",
       "      <td>acept</td>\n",
       "      <td>furnished</td>\n",
       "      <td>7114.000000</td>\n",
       "    </tr>\n",
       "    <tr>\n",
       "      <th>4177</th>\n",
       "      <td>Belo Horizonte</td>\n",
       "      <td>260.0</td>\n",
       "      <td>4</td>\n",
       "      <td>3</td>\n",
       "      <td>2</td>\n",
       "      <td>0.000000</td>\n",
       "      <td>acept</td>\n",
       "      <td>furnished</td>\n",
       "      <td>4303.326574</td>\n",
       "    </tr>\n",
       "    <tr>\n",
       "      <th>4539</th>\n",
       "      <td>Belo Horizonte</td>\n",
       "      <td>224.0</td>\n",
       "      <td>4</td>\n",
       "      <td>4</td>\n",
       "      <td>4</td>\n",
       "      <td>1.000000</td>\n",
       "      <td>acept</td>\n",
       "      <td>furnished</td>\n",
       "      <td>4303.326574</td>\n",
       "    </tr>\n",
       "    <tr>\n",
       "      <th>4841</th>\n",
       "      <td>Campinas</td>\n",
       "      <td>219.0</td>\n",
       "      <td>4</td>\n",
       "      <td>5</td>\n",
       "      <td>2</td>\n",
       "      <td>4.000000</td>\n",
       "      <td>acept</td>\n",
       "      <td>furnished</td>\n",
       "      <td>6275.000000</td>\n",
       "    </tr>\n",
       "    <tr>\n",
       "      <th>5283</th>\n",
       "      <td>Belo Horizonte</td>\n",
       "      <td>270.0</td>\n",
       "      <td>4</td>\n",
       "      <td>5</td>\n",
       "      <td>6</td>\n",
       "      <td>0.000000</td>\n",
       "      <td>acept</td>\n",
       "      <td>furnished</td>\n",
       "      <td>4303.326574</td>\n",
       "    </tr>\n",
       "    <tr>\n",
       "      <th>5611</th>\n",
       "      <td>Belo Horizonte</td>\n",
       "      <td>308.0</td>\n",
       "      <td>4</td>\n",
       "      <td>5</td>\n",
       "      <td>4</td>\n",
       "      <td>3.990012</td>\n",
       "      <td>acept</td>\n",
       "      <td>furnished</td>\n",
       "      <td>4303.326574</td>\n",
       "    </tr>\n",
       "    <tr>\n",
       "      <th>5632</th>\n",
       "      <td>Porto Alegre</td>\n",
       "      <td>280.0</td>\n",
       "      <td>5</td>\n",
       "      <td>3</td>\n",
       "      <td>3</td>\n",
       "      <td>0.000000</td>\n",
       "      <td>acept</td>\n",
       "      <td>furnished</td>\n",
       "      <td>4189.000000</td>\n",
       "    </tr>\n",
       "    <tr>\n",
       "      <th>6673</th>\n",
       "      <td>Belo Horizonte</td>\n",
       "      <td>300.0</td>\n",
       "      <td>4</td>\n",
       "      <td>4</td>\n",
       "      <td>3</td>\n",
       "      <td>13.000000</td>\n",
       "      <td>acept</td>\n",
       "      <td>furnished</td>\n",
       "      <td>4303.326574</td>\n",
       "    </tr>\n",
       "    <tr>\n",
       "      <th>6823</th>\n",
       "      <td>Belo Horizonte</td>\n",
       "      <td>300.0</td>\n",
       "      <td>4</td>\n",
       "      <td>6</td>\n",
       "      <td>4</td>\n",
       "      <td>2.000000</td>\n",
       "      <td>acept</td>\n",
       "      <td>furnished</td>\n",
       "      <td>4303.326574</td>\n",
       "    </tr>\n",
       "    <tr>\n",
       "      <th>7864</th>\n",
       "      <td>Belo Horizonte</td>\n",
       "      <td>300.0</td>\n",
       "      <td>4</td>\n",
       "      <td>3</td>\n",
       "      <td>2</td>\n",
       "      <td>10.000000</td>\n",
       "      <td>acept</td>\n",
       "      <td>furnished</td>\n",
       "      <td>6574.000000</td>\n",
       "    </tr>\n",
       "    <tr>\n",
       "      <th>8090</th>\n",
       "      <td>Belo Horizonte</td>\n",
       "      <td>240.0</td>\n",
       "      <td>4</td>\n",
       "      <td>4</td>\n",
       "      <td>2</td>\n",
       "      <td>3.000000</td>\n",
       "      <td>acept</td>\n",
       "      <td>furnished</td>\n",
       "      <td>4303.326574</td>\n",
       "    </tr>\n",
       "    <tr>\n",
       "      <th>8517</th>\n",
       "      <td>Belo Horizonte</td>\n",
       "      <td>247.0</td>\n",
       "      <td>4</td>\n",
       "      <td>5</td>\n",
       "      <td>4</td>\n",
       "      <td>3.990012</td>\n",
       "      <td>acept</td>\n",
       "      <td>furnished</td>\n",
       "      <td>4303.326574</td>\n",
       "    </tr>\n",
       "    <tr>\n",
       "      <th>9786</th>\n",
       "      <td>Campinas</td>\n",
       "      <td>238.0</td>\n",
       "      <td>4</td>\n",
       "      <td>5</td>\n",
       "      <td>4</td>\n",
       "      <td>10.000000</td>\n",
       "      <td>acept</td>\n",
       "      <td>furnished</td>\n",
       "      <td>7285.000000</td>\n",
       "    </tr>\n",
       "    <tr>\n",
       "      <th>9909</th>\n",
       "      <td>Belo Horizonte</td>\n",
       "      <td>260.0</td>\n",
       "      <td>4</td>\n",
       "      <td>3</td>\n",
       "      <td>3</td>\n",
       "      <td>4.000000</td>\n",
       "      <td>acept</td>\n",
       "      <td>furnished</td>\n",
       "      <td>6549.000000</td>\n",
       "    </tr>\n",
       "    <tr>\n",
       "      <th>10172</th>\n",
       "      <td>Belo Horizonte</td>\n",
       "      <td>260.0</td>\n",
       "      <td>4</td>\n",
       "      <td>4</td>\n",
       "      <td>6</td>\n",
       "      <td>10.000000</td>\n",
       "      <td>acept</td>\n",
       "      <td>furnished</td>\n",
       "      <td>4303.326574</td>\n",
       "    </tr>\n",
       "    <tr>\n",
       "      <th>10342</th>\n",
       "      <td>Belo Horizonte</td>\n",
       "      <td>300.0</td>\n",
       "      <td>4</td>\n",
       "      <td>4</td>\n",
       "      <td>4</td>\n",
       "      <td>3.990012</td>\n",
       "      <td>acept</td>\n",
       "      <td>furnished</td>\n",
       "      <td>4303.326574</td>\n",
       "    </tr>\n",
       "  </tbody>\n",
       "</table>\n",
       "</div>"
      ],
      "text/plain": [
       "                 city   area  rooms  bathroom  parking spaces      floor  \\\n",
       "807    Belo Horizonte  298.0      4         3               2   3.000000   \n",
       "1074   Belo Horizonte  280.0      4         4               3   8.000000   \n",
       "1719   Belo Horizonte  230.0      4         3               4   7.000000   \n",
       "1904   Belo Horizonte  308.0      4         5               6   3.990012   \n",
       "2966     Porto Alegre  281.0      4         3               4   0.000000   \n",
       "3548         Campinas  260.0      4         3               4   0.000000   \n",
       "4177   Belo Horizonte  260.0      4         3               2   0.000000   \n",
       "4539   Belo Horizonte  224.0      4         4               4   1.000000   \n",
       "4841         Campinas  219.0      4         5               2   4.000000   \n",
       "5283   Belo Horizonte  270.0      4         5               6   0.000000   \n",
       "5611   Belo Horizonte  308.0      4         5               4   3.990012   \n",
       "5632     Porto Alegre  280.0      5         3               3   0.000000   \n",
       "6673   Belo Horizonte  300.0      4         4               3  13.000000   \n",
       "6823   Belo Horizonte  300.0      4         6               4   2.000000   \n",
       "7864   Belo Horizonte  300.0      4         3               2  10.000000   \n",
       "8090   Belo Horizonte  240.0      4         4               2   3.000000   \n",
       "8517   Belo Horizonte  247.0      4         5               4   3.990012   \n",
       "9786         Campinas  238.0      4         5               4  10.000000   \n",
       "9909   Belo Horizonte  260.0      4         3               3   4.000000   \n",
       "10172  Belo Horizonte  260.0      4         4               6  10.000000   \n",
       "10342  Belo Horizonte  300.0      4         4               4   3.990012   \n",
       "\n",
       "      animal  furniture   total (R$)  \n",
       "807    acept  furnished  3164.000000  \n",
       "1074   acept  furnished  4303.326574  \n",
       "1719   acept  furnished  4303.326574  \n",
       "1904   acept  furnished  4303.326574  \n",
       "2966   acept  furnished  5480.000000  \n",
       "3548   acept  furnished  7114.000000  \n",
       "4177   acept  furnished  4303.326574  \n",
       "4539   acept  furnished  4303.326574  \n",
       "4841   acept  furnished  6275.000000  \n",
       "5283   acept  furnished  4303.326574  \n",
       "5611   acept  furnished  4303.326574  \n",
       "5632   acept  furnished  4189.000000  \n",
       "6673   acept  furnished  4303.326574  \n",
       "6823   acept  furnished  4303.326574  \n",
       "7864   acept  furnished  6574.000000  \n",
       "8090   acept  furnished  4303.326574  \n",
       "8517   acept  furnished  4303.326574  \n",
       "9786   acept  furnished  7285.000000  \n",
       "9909   acept  furnished  6549.000000  \n",
       "10172  acept  furnished  4303.326574  \n",
       "10342  acept  furnished  4303.326574  "
      ]
     },
     "execution_count": 79,
     "metadata": {},
     "output_type": "execute_result"
    }
   ],
   "source": [
    "# filter the area, total cost,bathroom,pets,parking spaces and furniture for Large family.\n",
    "L_df1 = L_df1[(L_df1['bathroom']>=3)&(L_df1['animal']=='acept')&(L_df1['furniture']=='furnished')&(L_df1['parking spaces']>1)]\n",
    "L_df1\n"
   ]
  },
  {
   "cell_type": "code",
   "execution_count": 80,
   "id": "8b52f608",
   "metadata": {},
   "outputs": [
    {
     "data": {
      "image/png": "[encoded data removed]",
      "text/plain": [
       "<Figure size 1000x600 with 1 Axes>"
      ]
     },
     "metadata": {},
     "output_type": "display_data"
    }
   ],
   "source": [
    "plt.figure(figsize=(10,6))\n",
    "sns.boxplot(x='area',y='city',data=L_df1)\n",
    "plt.show()"
   ]
  },
  {
   "cell_type": "code",
   "execution_count": 81,
   "id": "67f24d4a",
   "metadata": {},
   "outputs": [
    {
     "data": {
      "image/png": "[encoded data removed]",
      "text/plain": [
       "<Figure size 2000x700 with 1 Axes>"
      ]
     },
     "metadata": {},
     "output_type": "display_data"
    }
   ],
   "source": [
    "fig, ax = plt.subplots(figsize = (20, 7))\n",
    "sns.countplot(x = \"area\", hue = \"city\", data = L_df1)\n",
    "plt.show()"
   ]
  },
  {
   "cell_type": "markdown",
   "id": "c3165bbe",
   "metadata": {},
   "source": [
    "# Interpretation:\n",
    "    Belo Horizonte has highest range of houses with area between >200, with >4 rooms and with more facilities.\n",
    "    As per the analysis Belo Horizonte is the most affordable city for Large family."
   ]
  },
  {
   "cell_type": "code",
   "execution_count": null,
   "id": "3c6dcb9b",
   "metadata": {},
   "outputs": [],
   "source": []
  }
 ],
 "metadata": {
  "kernelspec": {
   "display_name": "Python 3 (ipykernel)",
   "language": "python",
   "name": "python3"
  },
  "language_info": {
   "codemirror_mode": {
    "name": "ipython",
    "version": 3
   },
   "file_extension": ".py",
   "mimetype": "text/x-python",
   "name": "python",
   "nbconvert_exporter": "python",
   "pygments_lexer": "ipython3",
   "version": "3.11.4"
  }
 },
 "nbformat": 4,
 "nbformat_minor": 5
}
